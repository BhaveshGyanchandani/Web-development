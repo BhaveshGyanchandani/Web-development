{
  "nbformat": 4,
  "nbformat_minor": 0,
  "metadata": {
    "colab": {
      "provenance": []
    },
    "kernelspec": {
      "name": "python3",
      "display_name": "Python 3"
    },
    "language_info": {
      "name": "python"
    }
  },
  "cells": [
    {
      "cell_type": "code",
      "execution_count": null,
      "metadata": {
        "colab": {
          "base_uri": "https://localhost:8080/"
        },
        "id": "xsDW2Kr7zeFW",
        "outputId": "cb199e46-1e10-4ea7-837b-462b1a783201"
      },
      "outputs": [
        {
          "output_type": "stream",
          "name": "stdout",
          "text": [
            "2.17.1\n"
          ]
        }
      ],
      "source": [
        "import tensorflow as tf\n",
        "print(tf.__version__)"
      ]
    },
    {
      "cell_type": "code",
      "source": [
        "scalar = tf.constant(7)\n",
        "scalar"
      ],
      "metadata": {
        "colab": {
          "base_uri": "https://localhost:8080/"
        },
        "id": "DQG3bMfNznyN",
        "outputId": "e43a5966-4a7d-415b-f52f-74552748ca28"
      },
      "execution_count": null,
      "outputs": [
        {
          "output_type": "execute_result",
          "data": {
            "text/plain": [
              "<tf.Tensor: shape=(), dtype=int32, numpy=7>"
            ]
          },
          "metadata": {},
          "execution_count": 2
        }
      ]
    },
    {
      "cell_type": "code",
      "source": [
        "vector1 = tf.constant([2,3])\n",
        "vector2 = tf.constant((2,3))\n",
        "vector1 , vector2"
      ],
      "metadata": {
        "colab": {
          "base_uri": "https://localhost:8080/"
        },
        "id": "1fOYOgIkzv5w",
        "outputId": "2a181e46-8498-431e-9255-156f19759d21"
      },
      "execution_count": null,
      "outputs": [
        {
          "output_type": "execute_result",
          "data": {
            "text/plain": [
              "(<tf.Tensor: shape=(2,), dtype=int32, numpy=array([2, 3], dtype=int32)>,\n",
              " <tf.Tensor: shape=(2,), dtype=int32, numpy=array([2, 3], dtype=int32)>)"
            ]
          },
          "metadata": {},
          "execution_count": 3
        }
      ]
    },
    {
      "cell_type": "code",
      "source": [
        "MATRIX1 = tf.constant([[2,3]])\n",
        "MATRIX2 = tf.constant((1,2,3))\n",
        "MATRIX1 , MATRIX2"
      ],
      "metadata": {
        "colab": {
          "base_uri": "https://localhost:8080/"
        },
        "id": "CKLTcDxDz4z_",
        "outputId": "4e5741a9-2884-4474-b52a-8110dcbe8abd"
      },
      "execution_count": null,
      "outputs": [
        {
          "output_type": "execute_result",
          "data": {
            "text/plain": [
              "(<tf.Tensor: shape=(1, 2), dtype=int32, numpy=array([[2, 3]], dtype=int32)>,\n",
              " <tf.Tensor: shape=(3,), dtype=int32, numpy=array([1, 2, 3], dtype=int32)>)"
            ]
          },
          "metadata": {},
          "execution_count": 4
        }
      ]
    },
    {
      "cell_type": "code",
      "source": [
        "TENSOR1 = tf.constant(\n",
        "    [\n",
        "      [\n",
        "      [2,3]\n",
        "      ]\n",
        "    ]\n",
        "  )\n",
        "\n",
        "TENSOR1"
      ],
      "metadata": {
        "colab": {
          "base_uri": "https://localhost:8080/"
        },
        "id": "18woTWgs0R4Z",
        "outputId": "76c6ee1a-cfa8-4683-9384-9d64a1cb305a"
      },
      "execution_count": null,
      "outputs": [
        {
          "output_type": "execute_result",
          "data": {
            "text/plain": [
              "<tf.Tensor: shape=(1, 1, 2), dtype=int32, numpy=array([[[2, 3]]], dtype=int32)>"
            ]
          },
          "metadata": {},
          "execution_count": 5
        }
      ]
    },
    {
      "cell_type": "code",
      "source": [
        "scalar.ndim , vector1.ndim , MATRIX1.ndim , TENSOR1.ndim"
      ],
      "metadata": {
        "colab": {
          "base_uri": "https://localhost:8080/"
        },
        "id": "jHZsJu_N0y5s",
        "outputId": "5faed24e-dddd-42f9-f00d-34d0cebe94de"
      },
      "execution_count": null,
      "outputs": [
        {
          "output_type": "execute_result",
          "data": {
            "text/plain": [
              "(0, 1, 2, 3)"
            ]
          },
          "metadata": {},
          "execution_count": 6
        }
      ]
    },
    {
      "cell_type": "markdown",
      "source": [
        "#creating tensors with `tf.Variable`\n"
      ],
      "metadata": {
        "id": "c_UZcAwO1wbL"
      }
    },
    {
      "cell_type": "code",
      "source": [
        "changeable_tensor = tf.Variable([10,7])\n",
        "unchangeable_tensor = tf.constant([10,7])\n",
        "changeable_tensor , unchangeable_tensor"
      ],
      "metadata": {
        "colab": {
          "base_uri": "https://localhost:8080/"
        },
        "id": "WPEVgcsu12h2",
        "outputId": "85c35bb0-0d8c-41d1-d035-1f607d7d99d3"
      },
      "execution_count": null,
      "outputs": [
        {
          "output_type": "execute_result",
          "data": {
            "text/plain": [
              "(<tf.Variable 'Variable:0' shape=(2,) dtype=int32, numpy=array([10,  7], dtype=int32)>,\n",
              " <tf.Tensor: shape=(2,), dtype=int32, numpy=array([10,  7], dtype=int32)>)"
            ]
          },
          "metadata": {},
          "execution_count": 7
        }
      ]
    },
    {
      "cell_type": "code",
      "source": [
        "# changeable_tensor[0] = 7 we cannot directly change  values in tensors\n",
        "\n",
        "changeable_tensor[0].assign(7)\n",
        "changeable_tensor"
      ],
      "metadata": {
        "colab": {
          "base_uri": "https://localhost:8080/"
        },
        "id": "M-cIkHN414Ad",
        "outputId": "c3f63093-c7c1-4071-c9d0-805644e7bf89"
      },
      "execution_count": null,
      "outputs": [
        {
          "output_type": "execute_result",
          "data": {
            "text/plain": [
              "<tf.Variable 'Variable:0' shape=(2,) dtype=int32, numpy=array([7, 7], dtype=int32)>"
            ]
          },
          "metadata": {},
          "execution_count": 8
        }
      ]
    },
    {
      "cell_type": "code",
      "source": [
        "# unchangeable_tensor[0].assign(7)  cannot change unchangeable tensors i.e tensor created with constant.......\n",
        "# unchangeable_tensor"
      ],
      "metadata": {
        "id": "hslwmZLy2P5j"
      },
      "execution_count": null,
      "outputs": []
    },
    {
      "cell_type": "markdown",
      "source": [
        "#creating random tensor"
      ],
      "metadata": {
        "id": "QRrILDyH2ize"
      }
    },
    {
      "cell_type": "code",
      "source": [
        "random_1  = tf.random.Generator.from_seed(42)\n",
        "random_1 = random_1.normal(shape=(3,2))\n",
        "random_1"
      ],
      "metadata": {
        "colab": {
          "base_uri": "https://localhost:8080/"
        },
        "id": "CRIzY9lE3Oj3",
        "outputId": "1eb28fa3-ddf1-4696-b90e-1e0d305e2078"
      },
      "execution_count": null,
      "outputs": [
        {
          "output_type": "execute_result",
          "data": {
            "text/plain": [
              "<tf.Tensor: shape=(3, 2), dtype=float32, numpy=\n",
              "array([[-0.7565803 , -0.06854702],\n",
              "       [ 0.07595026, -1.2573844 ],\n",
              "       [-0.23193763, -1.8107855 ]], dtype=float32)>"
            ]
          },
          "metadata": {},
          "execution_count": 10
        }
      ]
    },
    {
      "cell_type": "code",
      "source": [
        "not_shuffled = tf.constant([[10,7],[3,4],[2,5]])\n",
        "not_shuffled"
      ],
      "metadata": {
        "colab": {
          "base_uri": "https://localhost:8080/"
        },
        "id": "uatVRoVj3R-T",
        "outputId": "144dec8d-60c4-4b01-f113-f73646716c42"
      },
      "execution_count": null,
      "outputs": [
        {
          "output_type": "execute_result",
          "data": {
            "text/plain": [
              "<tf.Tensor: shape=(3, 2), dtype=int32, numpy=\n",
              "array([[10,  7],\n",
              "       [ 3,  4],\n",
              "       [ 2,  5]], dtype=int32)>"
            ]
          },
          "metadata": {},
          "execution_count": 11
        }
      ]
    },
    {
      "cell_type": "code",
      "source": [
        "shuffled = tf.random.shuffle(not_shuffled) #shuffles along 1st dimension her iy is 3....we can also put seed in it\n",
        "# shuffled  = tf.random.shuffle(not_shuffled , seed=42)\n",
        "shuffled"
      ],
      "metadata": {
        "colab": {
          "base_uri": "https://localhost:8080/"
        },
        "id": "uHVklIKj6MVn",
        "outputId": "60ae265c-8b4b-42c0-a304-c79f72031593"
      },
      "execution_count": null,
      "outputs": [
        {
          "output_type": "execute_result",
          "data": {
            "text/plain": [
              "<tf.Tensor: shape=(3, 2), dtype=int32, numpy=\n",
              "array([[ 3,  4],\n",
              "       [10,  7],\n",
              "       [ 2,  5]], dtype=int32)>"
            ]
          },
          "metadata": {},
          "execution_count": 12
        }
      ]
    },
    {
      "cell_type": "code",
      "source": [
        "# tf.random.set_seed(42) # global level random seed\n",
        "# shuffled  = tf.random.shuffle(not_shuffled , seed=42) operation level random seed....."
      ],
      "metadata": {
        "id": "2sd3Ag3O6O68"
      },
      "execution_count": null,
      "outputs": []
    },
    {
      "cell_type": "markdown",
      "source": [
        "# other ways to make tensors"
      ],
      "metadata": {
        "id": "21caJwJZ-wPq"
      }
    },
    {
      "cell_type": "code",
      "source": [
        "ones  = tf.ones([2,3])\n",
        "ones"
      ],
      "metadata": {
        "colab": {
          "base_uri": "https://localhost:8080/"
        },
        "id": "CIRxwHh7_Bmn",
        "outputId": "7dd6f134-5a41-48c8-a088-2e42ab3bba9e"
      },
      "execution_count": null,
      "outputs": [
        {
          "output_type": "execute_result",
          "data": {
            "text/plain": [
              "<tf.Tensor: shape=(2, 3), dtype=float32, numpy=\n",
              "array([[1., 1., 1.],\n",
              "       [1., 1., 1.]], dtype=float32)>"
            ]
          },
          "metadata": {},
          "execution_count": 14
        }
      ]
    },
    {
      "cell_type": "code",
      "source": [
        "zeros = tf.zeros([2,3])\n",
        "zeros"
      ],
      "metadata": {
        "colab": {
          "base_uri": "https://localhost:8080/"
        },
        "id": "YgOWKCEX_LMv",
        "outputId": "8b4386ae-f973-4d9e-8d5a-c8d35a9173f1"
      },
      "execution_count": null,
      "outputs": [
        {
          "output_type": "execute_result",
          "data": {
            "text/plain": [
              "<tf.Tensor: shape=(2, 3), dtype=float32, numpy=\n",
              "array([[0., 0., 0.],\n",
              "       [0., 0., 0.]], dtype=float32)>"
            ]
          },
          "metadata": {},
          "execution_count": 15
        }
      ]
    },
    {
      "cell_type": "markdown",
      "source": [
        "#turn numpy arrays into tensors"
      ],
      "metadata": {
        "id": "5OC4BUc-_ObP"
      }
    },
    {
      "cell_type": "code",
      "source": [
        "import numpy as np\n",
        "numpy_A = np.arange(1,25,dtype=np.int32)\n",
        "\n",
        "tensor_A = tf.constant(numpy_A)\n",
        "tensor_B = tf.constant(numpy_A , shape=(2,3,4)) # 2*3*4 = 24 , which is equal to elements of numpy_A......\n",
        "numpy_A,tensor_A,tensor_B"
      ],
      "metadata": {
        "colab": {
          "base_uri": "https://localhost:8080/"
        },
        "id": "E2cLjxaX_T0Q",
        "outputId": "fe73fc6a-bd3c-4291-e4f1-dc65c742c211"
      },
      "execution_count": null,
      "outputs": [
        {
          "output_type": "execute_result",
          "data": {
            "text/plain": [
              "(array([ 1,  2,  3,  4,  5,  6,  7,  8,  9, 10, 11, 12, 13, 14, 15, 16, 17,\n",
              "        18, 19, 20, 21, 22, 23, 24], dtype=int32),\n",
              " <tf.Tensor: shape=(24,), dtype=int32, numpy=\n",
              " array([ 1,  2,  3,  4,  5,  6,  7,  8,  9, 10, 11, 12, 13, 14, 15, 16, 17,\n",
              "        18, 19, 20, 21, 22, 23, 24], dtype=int32)>,\n",
              " <tf.Tensor: shape=(2, 3, 4), dtype=int32, numpy=\n",
              " array([[[ 1,  2,  3,  4],\n",
              "         [ 5,  6,  7,  8],\n",
              "         [ 9, 10, 11, 12]],\n",
              " \n",
              "        [[13, 14, 15, 16],\n",
              "         [17, 18, 19, 20],\n",
              "         [21, 22, 23, 24]]], dtype=int32)>)"
            ]
          },
          "metadata": {},
          "execution_count": 16
        }
      ]
    },
    {
      "cell_type": "markdown",
      "source": [
        "## Geting info from tensors\n",
        "\n",
        "* Shape  like its the length of all dimension of the tensor\n",
        "* Rank  tensor.ndim\n",
        "* Axis or Dimension  tensor[0] , tensor[:,1]\n",
        "* Size  no. of elements in the tensor"
      ],
      "metadata": {
        "id": "LbU9SeCg_YLi"
      }
    },
    {
      "cell_type": "markdown",
      "source": [
        "# Indexing tensors"
      ],
      "metadata": {
        "id": "cJRFG10QAVuG"
      }
    },
    {
      "cell_type": "code",
      "source": [
        "#tensor can be indexed like python list\n",
        "\n",
        "some_list = [1,2,3,4]\n",
        "some_list[:2]"
      ],
      "metadata": {
        "colab": {
          "base_uri": "https://localhost:8080/"
        },
        "id": "wZ3-l_jvNzUm",
        "outputId": "5619124f-1b44-4145-cbb8-72f084a5e4d1"
      },
      "execution_count": null,
      "outputs": [
        {
          "output_type": "execute_result",
          "data": {
            "text/plain": [
              "[1, 2]"
            ]
          },
          "metadata": {},
          "execution_count": 17
        }
      ]
    },
    {
      "cell_type": "code",
      "source": [
        "tensor  = tf.random.Generator.from_seed(42)\n",
        "tensor = tensor.normal(shape=(2,3,4))\n",
        "tensor\n",
        "\n",
        "tensor , tensor[: , 0] # 0th from each one\n"
      ],
      "metadata": {
        "colab": {
          "base_uri": "https://localhost:8080/"
        },
        "id": "QGGmqZQzN9JZ",
        "outputId": "370d8bbf-1fea-40ee-df11-390131a6788f"
      },
      "execution_count": null,
      "outputs": [
        {
          "output_type": "execute_result",
          "data": {
            "text/plain": [
              "(<tf.Tensor: shape=(2, 3, 4), dtype=float32, numpy=\n",
              " array([[[-0.7565803 , -0.06854702,  0.07595026, -1.2573844 ],\n",
              "         [-0.23193763, -1.8107855 ,  0.09988727, -0.50998646],\n",
              "         [-0.7535805 , -0.57166284,  0.1480774 , -0.23362993]],\n",
              " \n",
              "        [[-0.3522796 ,  0.40621263, -1.0523509 ,  1.2054597 ],\n",
              "         [ 1.6874489 , -0.4462975 , -2.3410842 ,  0.99009085],\n",
              "         [-0.0876323 , -0.635568  , -0.6161736 , -1.9441465 ]]],\n",
              "       dtype=float32)>,\n",
              " <tf.Tensor: shape=(2, 4), dtype=float32, numpy=\n",
              " array([[-0.7565803 , -0.06854702,  0.07595026, -1.2573844 ],\n",
              "        [-0.3522796 ,  0.40621263, -1.0523509 ,  1.2054597 ]],\n",
              "       dtype=float32)>)"
            ]
          },
          "metadata": {},
          "execution_count": 18
        }
      ]
    },
    {
      "cell_type": "code",
      "source": [
        " tensor[0,0,0]"
      ],
      "metadata": {
        "colab": {
          "base_uri": "https://localhost:8080/"
        },
        "id": "Dab_hbrGODz4",
        "outputId": "5a7b28d4-2007-46d6-d777-9a161c06455b"
      },
      "execution_count": null,
      "outputs": [
        {
          "output_type": "execute_result",
          "data": {
            "text/plain": [
              "<tf.Tensor: shape=(), dtype=float32, numpy=-0.7565803>"
            ]
          },
          "metadata": {},
          "execution_count": 19
        }
      ]
    },
    {
      "cell_type": "code",
      "source": [
        "#to add a axis in tensor\n",
        "\n",
        "tensor_new = tensor[...,tf.newaxis] # we can add a new axis anywhere\n",
        "tensor_new , tensor_new.shape"
      ],
      "metadata": {
        "colab": {
          "base_uri": "https://localhost:8080/"
        },
        "id": "aGK1_oy_OnR1",
        "outputId": "e6b3f3d4-90b5-4c31-bfc8-567a71d161b4"
      },
      "execution_count": null,
      "outputs": [
        {
          "output_type": "execute_result",
          "data": {
            "text/plain": [
              "(<tf.Tensor: shape=(2, 3, 4, 1), dtype=float32, numpy=\n",
              " array([[[[-0.7565803 ],\n",
              "          [-0.06854702],\n",
              "          [ 0.07595026],\n",
              "          [-1.2573844 ]],\n",
              " \n",
              "         [[-0.23193763],\n",
              "          [-1.8107855 ],\n",
              "          [ 0.09988727],\n",
              "          [-0.50998646]],\n",
              " \n",
              "         [[-0.7535805 ],\n",
              "          [-0.57166284],\n",
              "          [ 0.1480774 ],\n",
              "          [-0.23362993]]],\n",
              " \n",
              " \n",
              "        [[[-0.3522796 ],\n",
              "          [ 0.40621263],\n",
              "          [-1.0523509 ],\n",
              "          [ 1.2054597 ]],\n",
              " \n",
              "         [[ 1.6874489 ],\n",
              "          [-0.4462975 ],\n",
              "          [-2.3410842 ],\n",
              "          [ 0.99009085]],\n",
              " \n",
              "         [[-0.0876323 ],\n",
              "          [-0.635568  ],\n",
              "          [-0.6161736 ],\n",
              "          [-1.9441465 ]]]], dtype=float32)>,\n",
              " TensorShape([2, 3, 4, 1]))"
            ]
          },
          "metadata": {},
          "execution_count": 20
        }
      ]
    },
    {
      "cell_type": "code",
      "source": [
        "#aternative to tf.newaxis\n",
        "\n",
        "tf.expand_dims(tensor , axis=-1) # -1 means expand the final axis , 0 means expand the 0th axis i.e front"
      ],
      "metadata": {
        "colab": {
          "base_uri": "https://localhost:8080/"
        },
        "id": "imLqWn0aOxYu",
        "outputId": "c2dfcfec-2acc-4d56-f4e7-2e13f6134746"
      },
      "execution_count": null,
      "outputs": [
        {
          "output_type": "execute_result",
          "data": {
            "text/plain": [
              "<tf.Tensor: shape=(2, 3, 4, 1), dtype=float32, numpy=\n",
              "array([[[[-0.7565803 ],\n",
              "         [-0.06854702],\n",
              "         [ 0.07595026],\n",
              "         [-1.2573844 ]],\n",
              "\n",
              "        [[-0.23193763],\n",
              "         [-1.8107855 ],\n",
              "         [ 0.09988727],\n",
              "         [-0.50998646]],\n",
              "\n",
              "        [[-0.7535805 ],\n",
              "         [-0.57166284],\n",
              "         [ 0.1480774 ],\n",
              "         [-0.23362993]]],\n",
              "\n",
              "\n",
              "       [[[-0.3522796 ],\n",
              "         [ 0.40621263],\n",
              "         [-1.0523509 ],\n",
              "         [ 1.2054597 ]],\n",
              "\n",
              "        [[ 1.6874489 ],\n",
              "         [-0.4462975 ],\n",
              "         [-2.3410842 ],\n",
              "         [ 0.99009085]],\n",
              "\n",
              "        [[-0.0876323 ],\n",
              "         [-0.635568  ],\n",
              "         [-0.6161736 ],\n",
              "         [-1.9441465 ]]]], dtype=float32)>"
            ]
          },
          "metadata": {},
          "execution_count": 21
        }
      ]
    },
    {
      "cell_type": "code",
      "source": [
        "tensor , tf.expand_dims(tensor , axis=0) # expand the first axis"
      ],
      "metadata": {
        "colab": {
          "base_uri": "https://localhost:8080/"
        },
        "id": "iadLVdlKPpLH",
        "outputId": "5a6b5fc0-da0a-4142-8be9-4aed5a2fbf6c"
      },
      "execution_count": null,
      "outputs": [
        {
          "output_type": "execute_result",
          "data": {
            "text/plain": [
              "(<tf.Tensor: shape=(2, 3, 4), dtype=float32, numpy=\n",
              " array([[[-0.7565803 , -0.06854702,  0.07595026, -1.2573844 ],\n",
              "         [-0.23193763, -1.8107855 ,  0.09988727, -0.50998646],\n",
              "         [-0.7535805 , -0.57166284,  0.1480774 , -0.23362993]],\n",
              " \n",
              "        [[-0.3522796 ,  0.40621263, -1.0523509 ,  1.2054597 ],\n",
              "         [ 1.6874489 , -0.4462975 , -2.3410842 ,  0.99009085],\n",
              "         [-0.0876323 , -0.635568  , -0.6161736 , -1.9441465 ]]],\n",
              "       dtype=float32)>,\n",
              " <tf.Tensor: shape=(1, 2, 3, 4), dtype=float32, numpy=\n",
              " array([[[[-0.7565803 , -0.06854702,  0.07595026, -1.2573844 ],\n",
              "          [-0.23193763, -1.8107855 ,  0.09988727, -0.50998646],\n",
              "          [-0.7535805 , -0.57166284,  0.1480774 , -0.23362993]],\n",
              " \n",
              "         [[-0.3522796 ,  0.40621263, -1.0523509 ,  1.2054597 ],\n",
              "          [ 1.6874489 , -0.4462975 , -2.3410842 ,  0.99009085],\n",
              "          [-0.0876323 , -0.635568  , -0.6161736 , -1.9441465 ]]]],\n",
              "       dtype=float32)>)"
            ]
          },
          "metadata": {},
          "execution_count": 22
        }
      ]
    },
    {
      "cell_type": "markdown",
      "source": [
        "# manupulating tensors ( tensor operations )\n",
        "\n",
        "+ , - , / , *"
      ],
      "metadata": {
        "id": "lgQhjY6-P6GO"
      }
    },
    {
      "cell_type": "code",
      "source": [
        "ex = np.arange(1,10,1)\n",
        "ex , ex+10 , ex-10 , ex*10 ,ex/10"
      ],
      "metadata": {
        "colab": {
          "base_uri": "https://localhost:8080/"
        },
        "id": "Z9h02R5EQbUI",
        "outputId": "69909134-87fc-4924-cfbe-54d8e2106c88"
      },
      "execution_count": null,
      "outputs": [
        {
          "output_type": "execute_result",
          "data": {
            "text/plain": [
              "(array([1, 2, 3, 4, 5, 6, 7, 8, 9]),\n",
              " array([11, 12, 13, 14, 15, 16, 17, 18, 19]),\n",
              " array([-9, -8, -7, -6, -5, -4, -3, -2, -1]),\n",
              " array([10, 20, 30, 40, 50, 60, 70, 80, 90]),\n",
              " array([0.1, 0.2, 0.3, 0.4, 0.5, 0.6, 0.7, 0.8, 0.9]))"
            ]
          },
          "metadata": {},
          "execution_count": 23
        }
      ]
    },
    {
      "cell_type": "code",
      "source": [
        "#we can also use tenor built in functions"
      ],
      "metadata": {
        "id": "gwiCK4vRQk5o"
      },
      "execution_count": null,
      "outputs": []
    },
    {
      "cell_type": "markdown",
      "source": [
        "# matrix multiplication"
      ],
      "metadata": {
        "id": "h2IXFueHQ3GQ"
      }
    },
    {
      "cell_type": "code",
      "source": [
        "ex2 = tf.random.Generator.from_seed(42)\n",
        "ex2 = ex2.normal(shape=(10,1))\n",
        "\n",
        "ex = tf.random.Generator.from_seed(42)\n",
        "ex = ex.normal(shape=(1,10))\n",
        "# or we can use reshape....tf.reshape(ex , shape=(1,10))\n",
        "\n",
        "#or we can use transpose.....tf.transpose(ex)\n",
        "tf.matmul(ex,ex2)\n",
        "\n",
        "#tf.matmul(ex,tf.reshape(ex , shape=(10,1)))\n",
        "#tf.matmul(ex,tf.transpose(ex))\n"
      ],
      "metadata": {
        "colab": {
          "base_uri": "https://localhost:8080/"
        },
        "id": "cnXozABRQ9n6",
        "outputId": "376006d7-350a-482a-99c7-a8d5ac9d5cd7"
      },
      "execution_count": null,
      "outputs": [
        {
          "output_type": "execute_result",
          "data": {
            "text/plain": [
              "<tf.Tensor: shape=(1, 1), dtype=float32, numpy=array([[6.6613812]], dtype=float32)>"
            ]
          },
          "metadata": {},
          "execution_count": 25
        }
      ]
    },
    {
      "cell_type": "markdown",
      "source": [
        "#the dot product"
      ],
      "metadata": {
        "id": "MOWJrShERG4y"
      }
    },
    {
      "cell_type": "code",
      "source": [
        "tf.tensordot(ex,ex2,axes=1)"
      ],
      "metadata": {
        "colab": {
          "base_uri": "https://localhost:8080/"
        },
        "id": "3tvkemGWScGw",
        "outputId": "e06b0b6d-78a6-4428-841b-f87a97c34568"
      },
      "execution_count": null,
      "outputs": [
        {
          "output_type": "execute_result",
          "data": {
            "text/plain": [
              "<tf.Tensor: shape=(1, 1), dtype=float32, numpy=array([[6.6613812]], dtype=float32)>"
            ]
          },
          "metadata": {},
          "execution_count": 26
        }
      ]
    },
    {
      "cell_type": "markdown",
      "source": [
        "#type conversion"
      ],
      "metadata": {
        "id": "BUmshaC9SgV7"
      }
    },
    {
      "cell_type": "code",
      "source": [
        "B = tf.constant([1.7,7.4])\n",
        "D = tf.cast(B ,  dtype=tf.float16)\n",
        "D , B"
      ],
      "metadata": {
        "colab": {
          "base_uri": "https://localhost:8080/"
        },
        "id": "3OPJLZhQTLof",
        "outputId": "c670943b-f548-4479-fd58-9c8a16875108"
      },
      "execution_count": null,
      "outputs": [
        {
          "output_type": "execute_result",
          "data": {
            "text/plain": [
              "(<tf.Tensor: shape=(2,), dtype=float16, numpy=array([1.7, 7.4], dtype=float16)>,\n",
              " <tf.Tensor: shape=(2,), dtype=float32, numpy=array([1.7, 7.4], dtype=float32)>)"
            ]
          },
          "metadata": {},
          "execution_count": 27
        }
      ]
    },
    {
      "cell_type": "markdown",
      "source": [
        "# Agregating tensors\n",
        "\n",
        "means condensing them from multiple values to smaller amount of values"
      ],
      "metadata": {
        "id": "79j1LfbkTXev"
      }
    },
    {
      "cell_type": "code",
      "source": [
        "#get absolute values\n",
        "\n",
        "ex = tf.constant([-7,-10])\n",
        "tf.abs(ex)"
      ],
      "metadata": {
        "colab": {
          "base_uri": "https://localhost:8080/"
        },
        "id": "tcZyDQDAaOdn",
        "outputId": "e2f9f5f6-487f-4d29-b9f8-8920ce1d5be8"
      },
      "execution_count": null,
      "outputs": [
        {
          "output_type": "execute_result",
          "data": {
            "text/plain": [
              "<tf.Tensor: shape=(2,), dtype=int32, numpy=array([ 7, 10], dtype=int32)>"
            ]
          },
          "metadata": {},
          "execution_count": 28
        }
      ]
    },
    {
      "cell_type": "code",
      "source": [
        "# so we can use\n",
        "\n",
        "ex = tf.constant(np.random.randint(0,100,size=50))\n",
        "tf.reduce_min(ex) , tf.reduce_max(ex) , tf.reduce_mean(ex) , tf.reduce_sum(ex)"
      ],
      "metadata": {
        "colab": {
          "base_uri": "https://localhost:8080/"
        },
        "id": "uIJfI3asaVJE",
        "outputId": "fd897d79-44a4-44a5-e924-a71a134968c9"
      },
      "execution_count": null,
      "outputs": [
        {
          "output_type": "execute_result",
          "data": {
            "text/plain": [
              "(<tf.Tensor: shape=(), dtype=int64, numpy=1>,\n",
              " <tf.Tensor: shape=(), dtype=int64, numpy=99>,\n",
              " <tf.Tensor: shape=(), dtype=int64, numpy=48>,\n",
              " <tf.Tensor: shape=(), dtype=int64, numpy=2442>)"
            ]
          },
          "metadata": {},
          "execution_count": 29
        }
      ]
    },
    {
      "cell_type": "markdown",
      "source": [
        "#squeezing a tensor ( removing all single dimesions )"
      ],
      "metadata": {
        "id": "XizYr4safoBx"
      }
    },
    {
      "cell_type": "code",
      "source": [
        "#crate a tensor to get started\n",
        "\n",
        "G = tf.constant(tf.random.uniform(shape=[40]),shape=(1,1,1,1,40))\n",
        "#G = tf.constant(tf.random.uniform(shape=(1,1,1,1,40)))\n",
        "G"
      ],
      "metadata": {
        "colab": {
          "base_uri": "https://localhost:8080/"
        },
        "id": "HKBUlnwzUWvq",
        "outputId": "c966e5e8-93df-43b8-a3a6-7c2db675b26a"
      },
      "execution_count": null,
      "outputs": [
        {
          "output_type": "execute_result",
          "data": {
            "text/plain": [
              "<tf.Tensor: shape=(1, 1, 1, 1, 40), dtype=float32, numpy=\n",
              "array([[[[[0.12282109, 0.87659025, 0.8391094 , 0.28007746, 0.24168587,\n",
              "           0.3053664 , 0.3159418 , 0.852672  , 0.6352539 , 0.65264046,\n",
              "           0.24034572, 0.15530908, 0.99263096, 0.3985201 , 0.8946359 ,\n",
              "           0.43693566, 0.99105597, 0.8900813 , 0.34673226, 0.70551693,\n",
              "           0.9053731 , 0.34162915, 0.49820566, 0.54331744, 0.36127305,\n",
              "           0.24839914, 0.5099844 , 0.7339568 , 0.13222373, 0.41661584,\n",
              "           0.9712976 , 0.8984407 , 0.54634845, 0.60200953, 0.27083123,\n",
              "           0.8101857 , 0.44028676, 0.6665337 , 0.32965755, 0.01366806]]]]],\n",
              "      dtype=float32)>"
            ]
          },
          "metadata": {},
          "execution_count": 38
        }
      ]
    },
    {
      "cell_type": "code",
      "source": [
        "G_squeezed = tf.squeeze(G)\n",
        "G_squeezed , G_squeezed.shape"
      ],
      "metadata": {
        "colab": {
          "base_uri": "https://localhost:8080/"
        },
        "id": "Fm-X2b6_Uk6H",
        "outputId": "70ab0f5f-97d1-4432-bbce-84dcc1258ddc"
      },
      "execution_count": null,
      "outputs": [
        {
          "output_type": "execute_result",
          "data": {
            "text/plain": [
              "(<tf.Tensor: shape=(40,), dtype=float32, numpy=\n",
              " array([0.12282109, 0.87659025, 0.8391094 , 0.28007746, 0.24168587,\n",
              "        0.3053664 , 0.3159418 , 0.852672  , 0.6352539 , 0.65264046,\n",
              "        0.24034572, 0.15530908, 0.99263096, 0.3985201 , 0.8946359 ,\n",
              "        0.43693566, 0.99105597, 0.8900813 , 0.34673226, 0.70551693,\n",
              "        0.9053731 , 0.34162915, 0.49820566, 0.54331744, 0.36127305,\n",
              "        0.24839914, 0.5099844 , 0.7339568 , 0.13222373, 0.41661584,\n",
              "        0.9712976 , 0.8984407 , 0.54634845, 0.60200953, 0.27083123,\n",
              "        0.8101857 , 0.44028676, 0.6665337 , 0.32965755, 0.01366806],\n",
              "       dtype=float32)>,\n",
              " TensorShape([40]))"
            ]
          },
          "metadata": {},
          "execution_count": 39
        }
      ]
    },
    {
      "cell_type": "markdown",
      "source": [
        "#One-hot encoding"
      ],
      "metadata": {
        "id": "Q6amx2MbUuiq"
      }
    },
    {
      "cell_type": "code",
      "source": [
        "some_list  = [0,1,2,4]\n",
        "tf.one_hot(some_list , depth=4) # on_value = 1 , off_value = 0\n",
        "#it does on_value to 0th index of 0th array, 1st to 1st and 4th to 4th array....\n",
        "#we can also change the on and off value\n"
      ],
      "metadata": {
        "colab": {
          "base_uri": "https://localhost:8080/"
        },
        "id": "fKt2gFQ7bjDc",
        "outputId": "459c74f9-1c48-40db-8e97-62aa04559e5e"
      },
      "execution_count": null,
      "outputs": [
        {
          "output_type": "execute_result",
          "data": {
            "text/plain": [
              "<tf.Tensor: shape=(4, 4), dtype=float32, numpy=\n",
              "array([[1., 0., 0., 0.],\n",
              "       [0., 1., 0., 0.],\n",
              "       [0., 0., 1., 0.],\n",
              "       [0., 0., 0., 0.]], dtype=float32)>"
            ]
          },
          "metadata": {},
          "execution_count": 41
        }
      ]
    },
    {
      "cell_type": "code",
      "source": [
        "tf.one_hot(some_list , depth=5 , on_value=\"hello\" , off_value=\"world\")\n",
        "#dept is used to tell number of array in (1, depth) shape"
      ],
      "metadata": {
        "colab": {
          "base_uri": "https://localhost:8080/"
        },
        "id": "9NrEm2ESbo0s",
        "outputId": "e014ea23-2fdb-41b9-e182-d8ce0212d698"
      },
      "execution_count": null,
      "outputs": [
        {
          "output_type": "execute_result",
          "data": {
            "text/plain": [
              "<tf.Tensor: shape=(4, 5), dtype=string, numpy=\n",
              "array([[b'hello', b'world', b'world', b'world', b'world'],\n",
              "       [b'world', b'hello', b'world', b'world', b'world'],\n",
              "       [b'world', b'world', b'hello', b'world', b'world'],\n",
              "       [b'world', b'world', b'world', b'world', b'hello']], dtype=object)>"
            ]
          },
          "metadata": {},
          "execution_count": 43
        }
      ]
    },
    {
      "cell_type": "code",
      "source": [
        "\n",
        "tf.math.log(tf.cast(tf.range(1,10) , dtype=tf.float32)) , tf.sqrt(tf.cast(tf.range(1,10) , dtype=tf.float32))  #sqrt and log requires non int type of value"
      ],
      "metadata": {
        "colab": {
          "base_uri": "https://localhost:8080/"
        },
        "id": "b-W6AkVkcC-7",
        "outputId": "25678216-d753-49a1-9f75-01576a6fd631"
      },
      "execution_count": null,
      "outputs": [
        {
          "output_type": "execute_result",
          "data": {
            "text/plain": [
              "(<tf.Tensor: shape=(9,), dtype=float32, numpy=\n",
              " array([0.       , 0.6931472, 1.0986123, 1.3862944, 1.609438 , 1.7917595,\n",
              "        1.9459102, 2.0794415, 2.1972246], dtype=float32)>,\n",
              " <tf.Tensor: shape=(9,), dtype=float32, numpy=\n",
              " array([1.       , 1.4142135, 1.7320508, 2.       , 2.236068 , 2.4494898,\n",
              "        2.6457512, 2.828427 , 3.       ], dtype=float32)>)"
            ]
          },
          "metadata": {},
          "execution_count": 51
        }
      ]
    },
    {
      "cell_type": "markdown",
      "source": [
        "if we want to calculate a price of a house and we have 3 inputs like no of room , bathroom and cars ......i.e 3 inputs.....so we need to wrap these 3 inputs in an [ ]\n",
        "which will increase the shape (1,3) so we need to remove 1 dimension ( outside one) to get a single dimension output.....\n",
        "\n",
        "the actual shape oif input is 3 but the feeding shape is 1,3 and the output shape is 1 or depend on type of output......\n"
      ],
      "metadata": {
        "id": "yRRmLNqQcq9e"
      }
    },
    {
      "cell_type": "code",
      "source": [
        "[[0,0,0,1], # means 3 room\n",
        " [0,0,0,1], #4 bathroom\n",
        " [0,0,1,0] # 3 cars\n",
        " ]"
      ],
      "metadata": {
        "colab": {
          "base_uri": "https://localhost:8080/"
        },
        "id": "U7EQH8GIkJny",
        "outputId": "b2814816-fcb3-4511-cdec-45dd07c91f42"
      },
      "execution_count": null,
      "outputs": [
        {
          "output_type": "execute_result",
          "data": {
            "text/plain": [
              "[[0, 0, 0, 1], [0, 0, 0, 1], [0, 0, 1, 0]]"
            ]
          },
          "metadata": {},
          "execution_count": 52
        }
      ]
    },
    {
      "cell_type": "code",
      "source": [],
      "metadata": {
        "id": "zrQbbXiGkZFm"
      },
      "execution_count": null,
      "outputs": []
    }
  ]
}