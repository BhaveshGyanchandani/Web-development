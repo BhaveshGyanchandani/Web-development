{
  "nbformat": 4,
  "nbformat_minor": 0,
  "metadata": {
    "colab": {
      "provenance": []
    },
    "kernelspec": {
      "name": "python3",
      "display_name": "Python 3"
    },
    "language_info": {
      "name": "python"
    }
  },
  "cells": [
    {
      "cell_type": "markdown",
      "source": [
        "00_PyTorch\n"
      ],
      "metadata": {
        "id": "vxyA333ZUGmm"
      }
    },
    {
      "cell_type": "code",
      "execution_count": null,
      "metadata": {
        "colab": {
          "base_uri": "https://localhost:8080/"
        },
        "id": "HhqZRjZ6TjOp",
        "outputId": "5673cb63-0f98-41a1-c07a-e29122ac54f3"
      },
      "outputs": [
        {
          "output_type": "stream",
          "name": "stdout",
          "text": [
            "Heello\n"
          ]
        }
      ],
      "source": [
        "print(\"Heello\")"
      ]
    },
    {
      "cell_type": "code",
      "source": [
        "import torch\n",
        "import pandas as pd\n",
        "import matplotlib.pyplot as mt\n",
        "import numpy as np\n",
        "\n",
        "print(torch.__version__)"
      ],
      "metadata": {
        "colab": {
          "base_uri": "https://localhost:8080/"
        },
        "id": "nmY2IkklUbT6",
        "outputId": "3392cd3d-1adb-440c-95d8-8a7a2fd60b90"
      },
      "execution_count": 3,
      "outputs": [
        {
          "output_type": "stream",
          "name": "stdout",
          "text": [
            "2.5.1+cu121\n"
          ]
        }
      ]
    },
    {
      "cell_type": "markdown",
      "source": [
        "tensors are way to represent numeric data or data\n",
        "\n",
        "#Introduction to Tensors\n"
      ],
      "metadata": {
        "id": "tqgM4fwaVNJW"
      }
    },
    {
      "cell_type": "code",
      "source": [
        "#scalar\n",
        "#  pytorch tensors are created using torch.tensor()\n",
        "# torch.tensor is kinda a common lib to create tensors\n",
        "#the tensor are kinda datatypes.....like this tensor(7)\n",
        "# the scalar in general has only magnitude ie a number only\n",
        "#the dimension can be counted on number of squares either closing or opening ones [[[ ]]] has 3 opening and 3 closing brackets means it has 3D one\n",
        "scalar= torch.tensor(7)\n",
        "scalar\n",
        "\n",
        "# a scalar has no dimensioms its just a number or has only 1 number"
      ],
      "metadata": {
        "colab": {
          "base_uri": "https://localhost:8080/"
        },
        "id": "nVCCL7PuVRlR",
        "outputId": "fe0fbf21-5603-4997-c649-3cade2d4ebf7"
      },
      "execution_count": null,
      "outputs": [
        {
          "output_type": "execute_result",
          "data": {
            "text/plain": [
              "tensor(7)"
            ]
          },
          "metadata": {},
          "execution_count": 8
        }
      ]
    },
    {
      "cell_type": "code",
      "source": [
        "scalar.ndim #gives the dimension of the scalar ....bscially number of dimensions"
      ],
      "metadata": {
        "colab": {
          "base_uri": "https://localhost:8080/"
        },
        "id": "iM6OJvviV-B3",
        "outputId": "553da341-e95f-4b4b-c9dd-51462394debe"
      },
      "execution_count": null,
      "outputs": [
        {
          "output_type": "execute_result",
          "data": {
            "text/plain": [
              "0"
            ]
          },
          "metadata": {},
          "execution_count": 6
        }
      ]
    },
    {
      "cell_type": "code",
      "source": [
        "#get tensor back as python int\n",
        "\n",
        "scalar.item() # if we dont want the data as tensor we can use scalar.item to get the integer part only\n",
        "\n",
        "#we ususally represemnt scalar and vector in term of smaall case words\n",
        "# we use CAPITAL letter to represemnt TENSORS and MATRIX\n"
      ],
      "metadata": {
        "colab": {
          "base_uri": "https://localhost:8080/",
          "height": 193
        },
        "id": "WMB7Tw2YWHBV",
        "outputId": "b6943d72-b27f-4ad8-fbff-2faeba9020be"
      },
      "execution_count": null,
      "outputs": [
        {
          "output_type": "error",
          "ename": "NameError",
          "evalue": "name 'scalar' is not defined",
          "traceback": [
            "\u001b[0;31m---------------------------------------------------------------------------\u001b[0m",
            "\u001b[0;31mNameError\u001b[0m                                 Traceback (most recent call last)",
            "\u001b[0;32m<ipython-input-20-d238aea131c5>\u001b[0m in \u001b[0;36m<cell line: 3>\u001b[0;34m()\u001b[0m\n\u001b[1;32m      1\u001b[0m \u001b[0;31m#get tensor back as python int\u001b[0m\u001b[0;34m\u001b[0m\u001b[0;34m\u001b[0m\u001b[0m\n\u001b[1;32m      2\u001b[0m \u001b[0;34m\u001b[0m\u001b[0m\n\u001b[0;32m----> 3\u001b[0;31m \u001b[0mscalar\u001b[0m\u001b[0;34m.\u001b[0m\u001b[0mitem\u001b[0m\u001b[0;34m(\u001b[0m\u001b[0;34m)\u001b[0m \u001b[0;31m# if we dont want the data as tensor we can use scalar.item to get the integer part only\u001b[0m\u001b[0;34m\u001b[0m\u001b[0;34m\u001b[0m\u001b[0m\n\u001b[0m",
            "\u001b[0;31mNameError\u001b[0m: name 'scalar' is not defined"
          ]
        }
      ]
    },
    {
      "cell_type": "code",
      "source": [
        "#vector ......its nothing but same as normal vecctors.....it has a magnitude and a direction which will be more than 1 number\n",
        "\n",
        "vector = torch.tensor([7,7])\n",
        "vector"
      ],
      "metadata": {
        "colab": {
          "base_uri": "https://localhost:8080/"
        },
        "id": "pKI_hHDFWMJd",
        "outputId": "cb32a2cc-6af7-4380-f3ef-d6556da7ffd3"
      },
      "execution_count": null,
      "outputs": [
        {
          "output_type": "execute_result",
          "data": {
            "text/plain": [
              "tensor([7, 7])"
            ]
          },
          "metadata": {},
          "execution_count": 21
        }
      ]
    },
    {
      "cell_type": "code",
      "source": [
        "vector.ndim"
      ],
      "metadata": {
        "colab": {
          "base_uri": "https://localhost:8080/"
        },
        "id": "hpGGL1dGW09O",
        "outputId": "4708e5d6-7bbb-467a-8c85-cea35f5afcd5"
      },
      "execution_count": null,
      "outputs": [
        {
          "output_type": "execute_result",
          "data": {
            "text/plain": [
              "1"
            ]
          },
          "metadata": {},
          "execution_count": 12
        }
      ]
    },
    {
      "cell_type": "code",
      "source": [
        "vector.shape\n",
        "#number of items in the vector element inside the [ ]\n"
      ],
      "metadata": {
        "colab": {
          "base_uri": "https://localhost:8080/"
        },
        "id": "nqWb0NzWW5ri",
        "outputId": "2f1a0f9c-89b5-4622-f056-26bca6109de0"
      },
      "execution_count": null,
      "outputs": [
        {
          "output_type": "execute_result",
          "data": {
            "text/plain": [
              "torch.Size([2])"
            ]
          },
          "metadata": {},
          "execution_count": 14
        }
      ]
    },
    {
      "cell_type": "code",
      "source": [
        "#matrix\n",
        "\n",
        "MATRIX = torch.tensor([[7,8],[9,10]])\n",
        "MATRIX"
      ],
      "metadata": {
        "colab": {
          "base_uri": "https://localhost:8080/"
        },
        "id": "Tz-RnS_vW9xs",
        "outputId": "81d1cf17-e2cc-4102-a1fb-879218145de0"
      },
      "execution_count": null,
      "outputs": [
        {
          "output_type": "execute_result",
          "data": {
            "text/plain": [
              "tensor([[ 7,  8],\n",
              "        [ 9, 10]])"
            ]
          },
          "metadata": {},
          "execution_count": 15
        }
      ]
    },
    {
      "cell_type": "code",
      "source": [
        "MATRIX.ndim"
      ],
      "metadata": {
        "colab": {
          "base_uri": "https://localhost:8080/"
        },
        "id": "Xuirj49HXoDO",
        "outputId": "a1a53e00-388a-48ab-f814-ea8105b4c10e"
      },
      "execution_count": null,
      "outputs": [
        {
          "output_type": "execute_result",
          "data": {
            "text/plain": [
              "2"
            ]
          },
          "metadata": {},
          "execution_count": 16
        }
      ]
    },
    {
      "cell_type": "code",
      "source": [
        "MATRIX.shape"
      ],
      "metadata": {
        "colab": {
          "base_uri": "https://localhost:8080/"
        },
        "id": "mRki2q_vXp2u",
        "outputId": "2b4ee04c-22ad-4153-8bac-00be4d309fc6"
      },
      "execution_count": null,
      "outputs": [
        {
          "output_type": "execute_result",
          "data": {
            "text/plain": [
              "torch.Size([2, 2])"
            ]
          },
          "metadata": {},
          "execution_count": 17
        }
      ]
    },
    {
      "cell_type": "code",
      "source": [
        "MATRIX[0]"
      ],
      "metadata": {
        "colab": {
          "base_uri": "https://localhost:8080/"
        },
        "id": "tNBbH8KbXrg8",
        "outputId": "e7a0c8a6-09c8-4e99-a88d-c151fc4620ae"
      },
      "execution_count": null,
      "outputs": [
        {
          "output_type": "execute_result",
          "data": {
            "text/plain": [
              "tensor([7, 8])"
            ]
          },
          "metadata": {},
          "execution_count": 18
        }
      ]
    },
    {
      "cell_type": "code",
      "source": [
        "# the name scalar, vector , matrix are jist traditional names .....but torch.tensor is used to create them\n",
        "# the data is scalar , vecotr or matrix based on what the torch.tensor has....\n",
        "\n",
        "#like 7 or any nnumber means its a scalar 0D\n",
        "#if it has 1 row in an array form then its a vector = [7,8] 1D\n",
        "#if it has 2 row then its a matrix = [[7,8],[9,10]] 2D\n",
        "#if its more than 2  not rows but like 3 or more [[[]]] then itsa tensor....3D,4D etc based on number of nested [ ]\n"
      ],
      "metadata": {
        "id": "MTnULwFxXuEU"
      },
      "execution_count": null,
      "outputs": []
    },
    {
      "cell_type": "code",
      "source": [
        "#TENSOR\n",
        "\n",
        "TENSOR = torch.tensor(\n",
        "    [[[1,2,3],\n",
        "      [3,6,9],\n",
        "      [2,4,5]]]\n",
        ")\n",
        "\n",
        "TENSOR"
      ],
      "metadata": {
        "colab": {
          "base_uri": "https://localhost:8080/"
        },
        "id": "EL6RyUb3YaNr",
        "outputId": "c03079c7-8c7e-488b-e0d5-88548ffedf45"
      },
      "execution_count": null,
      "outputs": [
        {
          "output_type": "execute_result",
          "data": {
            "text/plain": [
              "tensor([[[1, 2, 3],\n",
              "         [3, 6, 9],\n",
              "         [2, 4, 5]]])"
            ]
          },
          "metadata": {},
          "execution_count": 21
        }
      ]
    },
    {
      "cell_type": "code",
      "source": [
        "TENSOR.ndim\n"
      ],
      "metadata": {
        "colab": {
          "base_uri": "https://localhost:8080/"
        },
        "id": "A7NtIiYVYhO-",
        "outputId": "8612886d-bf3f-405d-db46-fef12d416a70"
      },
      "execution_count": null,
      "outputs": [
        {
          "output_type": "execute_result",
          "data": {
            "text/plain": [
              "3"
            ]
          },
          "metadata": {},
          "execution_count": 22
        }
      ]
    },
    {
      "cell_type": "code",
      "source": [
        "TENSOR.shape"
      ],
      "metadata": {
        "colab": {
          "base_uri": "https://localhost:8080/"
        },
        "id": "sg2xWGtxYnfu",
        "outputId": "df203d6d-ac92-48f8-8f1e-29cacb64fac3"
      },
      "execution_count": null,
      "outputs": [
        {
          "output_type": "execute_result",
          "data": {
            "text/plain": [
              "torch.Size([1, 3, 3])"
            ]
          },
          "metadata": {},
          "execution_count": 23
        }
      ]
    },
    {
      "cell_type": "code",
      "source": [
        "TENSOR[0][1]\n"
      ],
      "metadata": {
        "colab": {
          "base_uri": "https://localhost:8080/"
        },
        "id": "YTbLfU_PYqQT",
        "outputId": "59f4e98b-3cf3-4683-86c3-dffec67e78b5"
      },
      "execution_count": null,
      "outputs": [
        {
          "output_type": "execute_result",
          "data": {
            "text/plain": [
              "tensor([3, 6, 9])"
            ]
          },
          "metadata": {},
          "execution_count": 30
        }
      ]
    },
    {
      "cell_type": "code",
      "source": [
        "TENSOR[0][0][2]"
      ],
      "metadata": {
        "colab": {
          "base_uri": "https://localhost:8080/"
        },
        "id": "RObUhC20ZN5Q",
        "outputId": "4901eafa-eab2-433d-e15a-fe0c1c3c7a46"
      },
      "execution_count": null,
      "outputs": [
        {
          "output_type": "execute_result",
          "data": {
            "text/plain": [
              "tensor(3)"
            ]
          },
          "metadata": {},
          "execution_count": 32
        }
      ]
    },
    {
      "cell_type": "markdown",
      "source": [
        "#Random Tensors\n"
      ],
      "metadata": {
        "id": "8vVflbZjZ9v5"
      }
    },
    {
      "cell_type": "markdown",
      "source": [
        "###Random tensors\n",
        "why random tensors ?\n",
        "\n",
        "Random trnsors are important because the way many neural netowrk learn is that they start with full ff random number to get better and adjust those numbers to beter represent the data....\n",
        "\n",
        "`start with random numbers -> look at data -> update random number - look at data  -> update random number`\n"
      ],
      "metadata": {
        "id": "ndMvUY_Lackt"
      }
    },
    {
      "cell_type": "code",
      "source": [
        "#create random tensor of size (3,4)\n",
        "\n",
        "random_tensor  = torch.rand(3,4)\n",
        "#rand gives a random number which is 0<x<1\n",
        "#here it will give 3X4 matrix of random number b.w 0 and 1\n",
        "random_tensor"
      ],
      "metadata": {
        "colab": {
          "base_uri": "https://localhost:8080/"
        },
        "id": "-f1yebuPZZHD",
        "outputId": "ebb9760b-4ca7-4c8c-80a4-fab208918868"
      },
      "execution_count": null,
      "outputs": [
        {
          "output_type": "execute_result",
          "data": {
            "text/plain": [
              "tensor([[0.5320, 0.7406, 0.1024, 0.6701],\n",
              "        [0.7536, 0.8722, 0.8236, 0.7197],\n",
              "        [0.8777, 0.5636, 0.0302, 0.4074]])"
            ]
          },
          "metadata": {},
          "execution_count": 14
        }
      ]
    },
    {
      "cell_type": "code",
      "source": [
        "random_tensor.shape"
      ],
      "metadata": {
        "colab": {
          "base_uri": "https://localhost:8080/"
        },
        "id": "m1IlmGc-aBoc",
        "outputId": "d36fd7b4-d81c-4691-a855-9d6449608913"
      },
      "execution_count": null,
      "outputs": [
        {
          "output_type": "execute_result",
          "data": {
            "text/plain": [
              "torch.Size([3, 4])"
            ]
          },
          "metadata": {},
          "execution_count": 36
        }
      ]
    },
    {
      "cell_type": "code",
      "source": [
        "# it could have any value D's\n",
        "\n",
        "random_tensor_2 = torch.rand(1,3,3)\n",
        "random_tensor_2"
      ],
      "metadata": {
        "colab": {
          "base_uri": "https://localhost:8080/"
        },
        "id": "hmAFgY-0boG4",
        "outputId": "6d8e7956-aba7-402c-8afd-a75f49c5fcb9"
      },
      "execution_count": null,
      "outputs": [
        {
          "output_type": "execute_result",
          "data": {
            "text/plain": [
              "tensor([[[0.7932, 0.7692, 0.1114],\n",
              "         [0.5279, 0.5144, 0.3332],\n",
              "         [0.0441, 0.4655, 0.0540]]])"
            ]
          },
          "metadata": {},
          "execution_count": 38
        }
      ]
    },
    {
      "cell_type": "code",
      "source": [
        "#create random tensor with similiar shae to an image tensor\n",
        "\n",
        "#like if we want to convert a image in tensor data , we need colour channel to convert it .......\n",
        "#colour channel mwans the number of colour sheets the image will have in individual......like red , blue , green.....\n",
        "#colour channel can be written at first of at last like the 3 colour channnels\n",
        "\n",
        "random_image_size_tensor = torch.rand(size=(224,224,3)) # the size is used to be (height, width , colour chanel)\n",
        "# random_image_size_tensor = torch.rand(size=(3,224,224)) # the size is used to be (colour chanel,height, width)\n",
        "#the result will be (torch.Size([3,224, 224]), 3) still the 3 of [3,224,224] wil be the colour change\n",
        "random_image_size_tensor.shape, random_image_size_tensor.ndim\n",
        "\n",
        " # the o/p which is (torch.Size([224, 224, 3]), 3)  means ([height , width , colour channels] , 3 ) this 3 means 3D which conssot of height , width and colour channels"
      ],
      "metadata": {
        "colab": {
          "base_uri": "https://localhost:8080/"
        },
        "id": "HVsTLweXb3ur",
        "outputId": "bd37189c-6645-4afa-d44c-b0270ad1f893"
      },
      "execution_count": null,
      "outputs": [
        {
          "output_type": "execute_result",
          "data": {
            "text/plain": [
              "(torch.Size([224, 224, 3]), 3)"
            ]
          },
          "metadata": {},
          "execution_count": 23
        }
      ]
    },
    {
      "cell_type": "code",
      "source": [
        "torch.rand(size=(3,3))"
      ],
      "metadata": {
        "id": "nH96zqkJc7YU",
        "colab": {
          "base_uri": "https://localhost:8080/"
        },
        "outputId": "bd9d844a-906a-4093-ac70-d4fe2a59bce5"
      },
      "execution_count": null,
      "outputs": [
        {
          "output_type": "execute_result",
          "data": {
            "text/plain": [
              "tensor([[0.1883, 0.9867, 0.4867],\n",
              "        [0.7655, 0.6797, 0.1786],\n",
              "        [0.3020, 0.7563, 0.3650]])"
            ]
          },
          "metadata": {},
          "execution_count": 6
        }
      ]
    },
    {
      "cell_type": "markdown",
      "source": [
        "#Zeroes and Ones\n",
        "\n"
      ],
      "metadata": {
        "id": "m6ryvDqHBVwl"
      }
    },
    {
      "cell_type": "code",
      "source": [
        "#Creat5e a tensor of all zeroes......used to perform masking of data\n",
        "zeros = torch.zeros(size=(3,4)) # Changed 'torch.zeroes' to 'torch.zeros'\n",
        "zeros"
      ],
      "metadata": {
        "colab": {
          "base_uri": "https://localhost:8080/"
        },
        "id": "BHmolZokBZcL",
        "outputId": "9287904f-4ac5-43b2-f433-aac9c383c437"
      },
      "execution_count": null,
      "outputs": [
        {
          "output_type": "execute_result",
          "data": {
            "text/plain": [
              "tensor([[0., 0., 0., 0.],\n",
              "        [0., 0., 0., 0.],\n",
              "        [0., 0., 0., 0.]])"
            ]
          },
          "metadata": {},
          "execution_count": 10
        }
      ]
    },
    {
      "cell_type": "code",
      "source": [
        "zeros*random_tensor\n"
      ],
      "metadata": {
        "colab": {
          "base_uri": "https://localhost:8080/"
        },
        "id": "xO79C0nlBk26",
        "outputId": "d8e3b399-c9ce-4bd2-a8e9-4fc0707e52ab"
      },
      "execution_count": null,
      "outputs": [
        {
          "output_type": "execute_result",
          "data": {
            "text/plain": [
              "tensor([[0., 0., 0., 0.],\n",
              "        [0., 0., 0., 0.],\n",
              "        [0., 0., 0., 0.]])"
            ]
          },
          "metadata": {},
          "execution_count": 15
        }
      ]
    },
    {
      "cell_type": "code",
      "source": [
        "#create a tensor of all ones\n",
        "\n",
        "ones = torch.ones(size=(3,4))\n",
        "ones\n",
        "\n"
      ],
      "metadata": {
        "colab": {
          "base_uri": "https://localhost:8080/"
        },
        "id": "6k--84CbCbY2",
        "outputId": "cb82eca9-0575-4ae2-ed8c-f601fd33e0c4"
      },
      "execution_count": null,
      "outputs": [
        {
          "output_type": "execute_result",
          "data": {
            "text/plain": [
              "tensor([[1., 1., 1., 1.],\n",
              "        [1., 1., 1., 1.],\n",
              "        [1., 1., 1., 1.]])"
            ]
          },
          "metadata": {},
          "execution_count": 16
        }
      ]
    },
    {
      "cell_type": "code",
      "source": [
        "ones*random_tensor\n"
      ],
      "metadata": {
        "colab": {
          "base_uri": "https://localhost:8080/"
        },
        "id": "yrGtC1ZBCtXa",
        "outputId": "e3231f05-1115-4643-c0d8-dffb7cb5492b"
      },
      "execution_count": null,
      "outputs": [
        {
          "output_type": "execute_result",
          "data": {
            "text/plain": [
              "tensor([[0.5320, 0.7406, 0.1024, 0.6701],\n",
              "        [0.7536, 0.8722, 0.8236, 0.7197],\n",
              "        [0.8777, 0.5636, 0.0302, 0.4074]])"
            ]
          },
          "metadata": {},
          "execution_count": 17
        }
      ]
    },
    {
      "cell_type": "code",
      "source": [
        "ones.dtype\n",
        "#default dataype is dtype"
      ],
      "metadata": {
        "colab": {
          "base_uri": "https://localhost:8080/"
        },
        "id": "b7CRdJzICwRj",
        "outputId": "44a93393-1aba-46f1-abc3-f326ce383cc5"
      },
      "execution_count": null,
      "outputs": [
        {
          "output_type": "execute_result",
          "data": {
            "text/plain": [
              "torch.float32"
            ]
          },
          "metadata": {},
          "execution_count": 19
        }
      ]
    },
    {
      "cell_type": "markdown",
      "source": [
        "#Creating  a range of tensors and tensors-like\n"
      ],
      "metadata": {
        "id": "uWCEWDYzJyyt"
      }
    },
    {
      "cell_type": "code",
      "source": [
        "#if  torch.range() depreciated  then use .arange()\n",
        "torch.arange(0,10)"
      ],
      "metadata": {
        "colab": {
          "base_uri": "https://localhost:8080/"
        },
        "id": "qhha9aoVJtZ3",
        "outputId": "8bc030c2-b095-4d93-f4ef-10b6c119a411"
      },
      "execution_count": null,
      "outputs": [
        {
          "output_type": "execute_result",
          "data": {
            "text/plain": [
              "tensor([0, 1, 2, 3, 4, 5, 6, 7, 8, 9])"
            ]
          },
          "metadata": {},
          "execution_count": 26
        }
      ]
    },
    {
      "cell_type": "code",
      "source": [
        "one_to_ten = torch.arange(start=1,end=11,step=1) # or torch.arange(1,11) from start to end-1 with gap of 1\n",
        "one_to_ten"
      ],
      "metadata": {
        "colab": {
          "base_uri": "https://localhost:8080/"
        },
        "id": "7KKoEVs6JtX_",
        "outputId": "eaab0553-1722-4c61-ed46-984b4afb9e32"
      },
      "execution_count": null,
      "outputs": [
        {
          "output_type": "execute_result",
          "data": {
            "text/plain": [
              "tensor([ 1,  2,  3,  4,  5,  6,  7,  8,  9, 10])"
            ]
          },
          "metadata": {},
          "execution_count": 27
        }
      ]
    },
    {
      "cell_type": "code",
      "source": [
        "#to convert the arange of tensors into zeros\n",
        "ten_zeros = torch.zeros_like(input=one_to_ten)\n",
        "ten_zeros"
      ],
      "metadata": {
        "colab": {
          "base_uri": "https://localhost:8080/"
        },
        "id": "XDpIE-JAJtVj",
        "outputId": "bfbb1531-2b30-4aaa-a88e-80718503c51e"
      },
      "execution_count": null,
      "outputs": [
        {
          "output_type": "execute_result",
          "data": {
            "text/plain": [
              "tensor([0, 0, 0, 0, 0, 0, 0, 0, 0, 0])"
            ]
          },
          "metadata": {},
          "execution_count": 30
        }
      ]
    },
    {
      "cell_type": "markdown",
      "source": [
        "#Tensor Datatypes\n",
        "\n",
        "Note : Tensor data type will be the one of the 3 big errors u will rin with putrpch and deep learning\n",
        "\n",
        "1) tensors not right datatype.\n",
        "2) tensor not right shape.\n",
        "3) tensor not on right device.\n"
      ],
      "metadata": {
        "id": "EmFL94qBLCdg"
      }
    },
    {
      "cell_type": "code",
      "source": [
        "#Float 32 tensor\n",
        "# float_32_tensor = torch.tensor([3.0,6.0,9.0],dtype=None)\n",
        "# float_32_tensor = torch.tensor([3.0,6.0,9.0],dtype=torch.float16) the computer stores 16 bit of memory to this value in memory\n",
        "#the default is 32 , but why to use 16 instead of 32 ??\n",
        "# the smaller it is the greater the computation speed but lesser the precision the lesser the memory it take to compute and vice versa\n",
        "float_32_tensor = torch.tensor([3.0,6.0,9.0],\n",
        "                               dtype=torch.float32,# datatype of tensor or we can use None too\n",
        "                               device=None, #what device your tensor is on CPU , GPU or none\n",
        "                               requires_grad=False) # whether or not to track gradients with this gradient operations\n",
        "\n",
        "# for example for the 3rd problem is  , ltes say one tensor is on cpy device and one is on gpu so it will show error if we access the ddatayoe with wrogn device\n",
        "\n",
        "float_32_tensor"
      ],
      "metadata": {
        "colab": {
          "base_uri": "https://localhost:8080/"
        },
        "id": "NjnyE-IrJs2I",
        "outputId": "be12097e-65c7-46fe-b593-dfb44ab80752"
      },
      "execution_count": null,
      "outputs": [
        {
          "output_type": "execute_result",
          "data": {
            "text/plain": [
              "tensor([3., 6., 9.])"
            ]
          },
          "metadata": {},
          "execution_count": 43
        }
      ]
    },
    {
      "cell_type": "code",
      "source": [
        "float_16_tensor = float_32_tensor.type(torch.float16) # it is used to convert the float 32 tensor into float 16 tensor\n",
        "float_16_tensor"
      ],
      "metadata": {
        "colab": {
          "base_uri": "https://localhost:8080/"
        },
        "id": "MU7ClJEcKwcN",
        "outputId": "9c68404c-a4f4-4967-f7ea-67bf13378892"
      },
      "execution_count": null,
      "outputs": [
        {
          "output_type": "execute_result",
          "data": {
            "text/plain": [
              "tensor([3., 6., 9.], dtype=torch.float16)"
            ]
          },
          "metadata": {},
          "execution_count": 44
        }
      ]
    },
    {
      "cell_type": "code",
      "source": [
        "float_16_tensor*float_32_tensor\n",
        "# suprisingly we multiplies float32 with float 16 and got no error......and it happens sometimes we get no error"
      ],
      "metadata": {
        "colab": {
          "base_uri": "https://localhost:8080/"
        },
        "id": "LnIiW8x2KwZt",
        "outputId": "29cff13e-c8d1-4e9b-eff9-71f9c2e36e78"
      },
      "execution_count": null,
      "outputs": [
        {
          "output_type": "execute_result",
          "data": {
            "text/plain": [
              "tensor([ 9., 36., 81.])"
            ]
          },
          "metadata": {},
          "execution_count": 45
        }
      ]
    },
    {
      "cell_type": "code",
      "source": [
        "int_32_tensor = torch.tensor([3,6,9],dtype=torch.int32)\n",
        "int_32_tensor"
      ],
      "metadata": {
        "colab": {
          "base_uri": "https://localhost:8080/"
        },
        "id": "-1rRPUCPKwWQ",
        "outputId": "b8f6fea8-3f49-40f9-d65e-c7c74534e6f1"
      },
      "execution_count": null,
      "outputs": [
        {
          "output_type": "execute_result",
          "data": {
            "text/plain": [
              "tensor([3, 6, 9], dtype=torch.int32)"
            ]
          },
          "metadata": {},
          "execution_count": 46
        }
      ]
    },
    {
      "cell_type": "code",
      "source": [
        "int_32_tensor*float_32_tensor\n",
        "#still we got no error and it works....... what if we use long tensor ( which is 64 bit )"
      ],
      "metadata": {
        "colab": {
          "base_uri": "https://localhost:8080/"
        },
        "id": "UbglhQXRKwRq",
        "outputId": "e417a79b-92ac-40d3-ce67-b950b6454800"
      },
      "execution_count": null,
      "outputs": [
        {
          "output_type": "execute_result",
          "data": {
            "text/plain": [
              "tensor([ 9., 36., 81.])"
            ]
          },
          "metadata": {},
          "execution_count": 48
        }
      ]
    },
    {
      "cell_type": "code",
      "source": [
        "int_32_tensor_2 = torch.tensor([3,6,9],dtype=torch.long)\n",
        "int_32_tensor_2"
      ],
      "metadata": {
        "colab": {
          "base_uri": "https://localhost:8080/"
        },
        "id": "0CTrGk54C0CY",
        "outputId": "3ca36b6b-6454-4ad6-85b6-b52f42e5b399"
      },
      "execution_count": null,
      "outputs": [
        {
          "output_type": "execute_result",
          "data": {
            "text/plain": [
              "tensor([3, 6, 9])"
            ]
          },
          "metadata": {},
          "execution_count": 49
        }
      ]
    },
    {
      "cell_type": "code",
      "source": [
        "int_32_tensor_2*float_32_tensor\n",
        "#it still works.......but note we get error when we use so keep that in mind......."
      ],
      "metadata": {
        "colab": {
          "base_uri": "https://localhost:8080/"
        },
        "id": "ZS-ez4J0PFTG",
        "outputId": "fb5d63e1-5cab-4439-e5a5-cbee308218d9"
      },
      "execution_count": null,
      "outputs": [
        {
          "output_type": "execute_result",
          "data": {
            "text/plain": [
              "tensor([ 9., 36., 81.])"
            ]
          },
          "metadata": {},
          "execution_count": 51
        }
      ]
    },
    {
      "cell_type": "code",
      "source": [],
      "metadata": {
        "id": "2kvJS1ZCPH7q"
      },
      "execution_count": null,
      "outputs": []
    },
    {
      "cell_type": "markdown",
      "source": [
        "#Gettting information from tensors\n",
        "1. tensors not right datatype. -> to do get datatype from a tensor can use `tensor.dtype\n",
        " 2. tensor not right shape. -> to do get shape from a tensor can use `tensor.shape\n",
        " 3. tensor not on right device. ->to do get device from a tensor can use `tensor.device\n"
      ],
      "metadata": {
        "id": "rQK0eN65PlPm"
      }
    },
    {
      "cell_type": "code",
      "source": [
        "#Create a tensor\n",
        "\n",
        "some_tensor = torch.rand(3,4) # 3 rows 4 columns\n",
        "some_tensor"
      ],
      "metadata": {
        "colab": {
          "base_uri": "https://localhost:8080/"
        },
        "id": "h-X93-83Pl-I",
        "outputId": "88e229e9-744a-4194-c56e-a1b8f20db59b"
      },
      "execution_count": null,
      "outputs": [
        {
          "output_type": "execute_result",
          "data": {
            "text/plain": [
              "tensor([[0.0643, 0.3018, 0.6769, 0.0134],\n",
              "        [0.3777, 0.6917, 0.0965, 0.5405],\n",
              "        [0.0628, 0.3046, 0.5275, 0.8897]])"
            ]
          },
          "metadata": {},
          "execution_count": 57
        }
      ]
    },
    {
      "cell_type": "code",
      "source": [
        "print(some_tensor)\n",
        "print(f\"Datatype of tensor : {some_tensor.dtype}\")\n",
        "print(f\"Shape of tensor : {some_tensor.shape}\")\n",
        "print(f\"Device tensor is on : {some_tensor.device}\")"
      ],
      "metadata": {
        "colab": {
          "base_uri": "https://localhost:8080/"
        },
        "id": "WMbOUYSwPzEk",
        "outputId": "293da421-e42f-4a9d-c8e7-59ffef986488"
      },
      "execution_count": null,
      "outputs": [
        {
          "output_type": "stream",
          "name": "stdout",
          "text": [
            "tensor([[0.5539, 0.6171, 0.0071, 0.2231],\n",
            "        [0.6335, 0.1404, 0.2661, 0.5413],\n",
            "        [0.4280, 0.9979, 0.1113, 0.4242]])\n",
            "Datatype of tensor : torch.float32\n",
            "Shape of tensor : torch.Size([3, 4])\n",
            "Device tensor is on : cpu\n"
          ]
        }
      ]
    },
    {
      "cell_type": "code",
      "source": [
        "new_rtensor = torch.rand([3,4])\n",
        "new_rtensor"
      ],
      "metadata": {
        "colab": {
          "base_uri": "https://localhost:8080/"
        },
        "id": "Prrkk7NSP62l",
        "outputId": "4f0c5f6d-79ce-4503-f6c1-ae1fdceb8e88"
      },
      "execution_count": null,
      "outputs": [
        {
          "output_type": "execute_result",
          "data": {
            "text/plain": [
              "tensor([[0.6134, 0.6886, 0.7278, 0.4693],\n",
              "        [0.8690, 0.9651, 0.9073, 0.3432],\n",
              "        [0.4224, 0.8796, 0.8249, 0.4954]])"
            ]
          },
          "metadata": {},
          "execution_count": 56
        }
      ]
    },
    {
      "cell_type": "code",
      "source": [],
      "metadata": {
        "id": "YeTUQLUMQL62"
      },
      "execution_count": null,
      "outputs": []
    },
    {
      "cell_type": "markdown",
      "source": [
        "#manupulating tensors ( tensor operations )\n",
        "\n",
        "Tensor operaitions include\n",
        " *Addition\n",
        " *Subtraction\n",
        " *Multiplication\n",
        " *Division\n",
        " *Matrix multiplication  "
      ],
      "metadata": {
        "id": "KEQgr-CdqTgS"
      }
    },
    {
      "cell_type": "code",
      "source": [
        "#create a tensro and add 10 to it\n",
        "tensor = torch.tensor([1,2,3])\n",
        "tensor + 10"
      ],
      "metadata": {
        "colab": {
          "base_uri": "https://localhost:8080/"
        },
        "id": "aoH9Bi_jqTVw",
        "outputId": "d75df32f-81a1-42dc-c706-c3cb8c0d4f76"
      },
      "execution_count": null,
      "outputs": [
        {
          "output_type": "execute_result",
          "data": {
            "text/plain": [
              "tensor([11, 12, 13])"
            ]
          },
          "metadata": {},
          "execution_count": 58
        }
      ]
    },
    {
      "cell_type": "code",
      "source": [
        "tensor*10"
      ],
      "metadata": {
        "colab": {
          "base_uri": "https://localhost:8080/"
        },
        "id": "6aq_Oro9rRTn",
        "outputId": "8ff0a86b-8e75-44ee-cb2e-172ab7369d91"
      },
      "execution_count": null,
      "outputs": [
        {
          "output_type": "execute_result",
          "data": {
            "text/plain": [
              "tensor([10, 20, 30])"
            ]
          },
          "metadata": {},
          "execution_count": 59
        }
      ]
    },
    {
      "cell_type": "code",
      "source": [
        "tensor-10"
      ],
      "metadata": {
        "colab": {
          "base_uri": "https://localhost:8080/"
        },
        "id": "u3tdrb92rTBt",
        "outputId": "04a71b02-ad1f-42b7-96f4-75620d2b6ba2"
      },
      "execution_count": null,
      "outputs": [
        {
          "output_type": "execute_result",
          "data": {
            "text/plain": [
              "tensor([-9, -8, -7])"
            ]
          },
          "metadata": {},
          "execution_count": 60
        }
      ]
    },
    {
      "cell_type": "code",
      "source": [
        "torch.mul(tensor,10)"
      ],
      "metadata": {
        "colab": {
          "base_uri": "https://localhost:8080/"
        },
        "id": "NvaTUvU1rXJe",
        "outputId": "44f1ef31-3c57-404b-fba6-bf1dfd3628b8"
      },
      "execution_count": null,
      "outputs": [
        {
          "output_type": "execute_result",
          "data": {
            "text/plain": [
              "tensor([10, 20, 30])"
            ]
          },
          "metadata": {},
          "execution_count": 61
        }
      ]
    },
    {
      "cell_type": "markdown",
      "source": [
        "#Matrix multiplication"
      ],
      "metadata": {
        "id": "RiHsaRe3tZcG"
      }
    },
    {
      "cell_type": "code",
      "source": [
        "print(tensor, \"*\", tensor)\n",
        "print(f\"Equals : {tensor*tensor}\")"
      ],
      "metadata": {
        "colab": {
          "base_uri": "https://localhost:8080/"
        },
        "id": "z6nTmJODsBnt",
        "outputId": "3c024b06-9622-4bbc-a255-b16640d3283e"
      },
      "execution_count": null,
      "outputs": [
        {
          "output_type": "stream",
          "name": "stdout",
          "text": [
            "tensor([1, 2, 3]) * tensor([1, 2, 3])\n",
            "Equals : tensor([1, 4, 9])\n"
          ]
        }
      ]
    },
    {
      "cell_type": "code",
      "source": [
        "%%time\n",
        "torch.matmul(tensor,tensor)"
      ],
      "metadata": {
        "colab": {
          "base_uri": "https://localhost:8080/"
        },
        "id": "wH3glaF_tdMO",
        "outputId": "03dc20cb-34fb-48a3-b6c2-532dacc14989"
      },
      "execution_count": null,
      "outputs": [
        {
          "output_type": "stream",
          "name": "stdout",
          "text": [
            "CPU times: user 122 µs, sys: 10 µs, total: 132 µs\n",
            "Wall time: 137 µs\n"
          ]
        },
        {
          "output_type": "execute_result",
          "data": {
            "text/plain": [
              "tensor(14)"
            ]
          },
          "metadata": {},
          "execution_count": 65
        }
      ]
    },
    {
      "cell_type": "code",
      "source": [
        "%%time\n",
        "\n",
        "value = 0\n",
        "for i in range(len(tensor)):\n",
        "  value += tensor[i]*tensor[i]\n",
        "print(value)"
      ],
      "metadata": {
        "colab": {
          "base_uri": "https://localhost:8080/"
        },
        "id": "sBh8pc9JthDM",
        "outputId": "d6fd021f-d90c-4d85-f72a-4b9146e78ebe"
      },
      "execution_count": null,
      "outputs": [
        {
          "output_type": "stream",
          "name": "stdout",
          "text": [
            "tensor(14)\n",
            "CPU times: user 3.96 ms, sys: 0 ns, total: 3.96 ms\n",
            "Wall time: 14.4 ms\n"
          ]
        }
      ]
    },
    {
      "cell_type": "code",
      "source": [],
      "metadata": {
        "id": "TRohtPVXt583"
      },
      "execution_count": null,
      "outputs": []
    },
    {
      "cell_type": "markdown",
      "source": [
        "\n",
        "There are two main rules that performing matrix multiplication needs to satisfy ;\n",
        "1.The **inner dimensions** must match:\n",
        "* `(3,2) @  (3,2)` wont work\n",
        "* `(2,3) @  (3,2)` will work\n",
        "* `(3,2) @  (2,3)` also work\n",
        "\n"
      ],
      "metadata": {
        "id": "P_uS6YCTujTB"
      }
    },
    {
      "cell_type": "code",
      "source": [
        "#  torch.matmul(torch.rand(3,2),torch.rand(3,2)) gives error"
      ],
      "metadata": {
        "colab": {
          "base_uri": "https://localhost:8080/",
          "height": 141
        },
        "id": "If7bSPQ-uxsO",
        "outputId": "28be4b68-45a3-4b8c-8c40-65ae886e59b8"
      },
      "execution_count": null,
      "outputs": [
        {
          "output_type": "error",
          "ename": "RuntimeError",
          "evalue": "mat1 and mat2 shapes cannot be multiplied (3x2 and 3x2)",
          "traceback": [
            "\u001b[0;31m---------------------------------------------------------------------------\u001b[0m",
            "\u001b[0;31mRuntimeError\u001b[0m                              Traceback (most recent call last)",
            "\u001b[0;32m<ipython-input-66-b18cf73cc692>\u001b[0m in \u001b[0;36m<cell line: 1>\u001b[0;34m()\u001b[0m\n\u001b[0;32m----> 1\u001b[0;31m \u001b[0mtorch\u001b[0m\u001b[0;34m.\u001b[0m\u001b[0mmatmul\u001b[0m\u001b[0;34m(\u001b[0m\u001b[0mtorch\u001b[0m\u001b[0;34m.\u001b[0m\u001b[0mrand\u001b[0m\u001b[0;34m(\u001b[0m\u001b[0;36m3\u001b[0m\u001b[0;34m,\u001b[0m\u001b[0;36m2\u001b[0m\u001b[0;34m)\u001b[0m\u001b[0;34m,\u001b[0m\u001b[0mtorch\u001b[0m\u001b[0;34m.\u001b[0m\u001b[0mrand\u001b[0m\u001b[0;34m(\u001b[0m\u001b[0;36m3\u001b[0m\u001b[0;34m,\u001b[0m\u001b[0;36m2\u001b[0m\u001b[0;34m)\u001b[0m\u001b[0;34m)\u001b[0m\u001b[0;34m\u001b[0m\u001b[0;34m\u001b[0m\u001b[0m\n\u001b[0m",
            "\u001b[0;31mRuntimeError\u001b[0m: mat1 and mat2 shapes cannot be multiplied (3x2 and 3x2)"
          ]
        }
      ]
    },
    {
      "cell_type": "code",
      "source": [
        "torch.matmul(torch.rand(2,3),torch.rand(3,2))"
      ],
      "metadata": {
        "colab": {
          "base_uri": "https://localhost:8080/"
        },
        "id": "v8xCo8zGw3JJ",
        "outputId": "5c8c4d75-d31c-4069-c4ae-c323d21947ea"
      },
      "execution_count": null,
      "outputs": [
        {
          "output_type": "execute_result",
          "data": {
            "text/plain": [
              "tensor([[1.1713, 1.3351],\n",
              "        [1.0202, 1.1804]])"
            ]
          },
          "metadata": {},
          "execution_count": 67
        }
      ]
    },
    {
      "cell_type": "markdown",
      "source": [
        "#One of the most common errrors in deep learning : SHAPE ERROR\n"
      ],
      "metadata": {
        "id": "DlkCApSCxCJZ"
      }
    },
    {
      "cell_type": "code",
      "source": [
        "#Shapes for matrix multiplication\n",
        "\n",
        "tensor_A = torch.tensor([[1,2],\n",
        "                        [3,4],\n",
        "                        [5,6]])\n",
        "\n",
        "tensor_B = torch.tensor([[7,8],\n",
        "                        [9,10],\n",
        "                        [11,12]])\n",
        "\n",
        "# torch.mm(tensor_A,tensor_B) error"
      ],
      "metadata": {
        "colab": {
          "base_uri": "https://localhost:8080/",
          "height": 176
        },
        "id": "lMqzvcsWxCjz",
        "outputId": "2b637150-d69e-4726-8b76-dc0d188d7486"
      },
      "execution_count": null,
      "outputs": [
        {
          "output_type": "error",
          "ename": "RuntimeError",
          "evalue": "mat1 and mat2 shapes cannot be multiplied (3x2 and 3x2)",
          "traceback": [
            "\u001b[0;31m---------------------------------------------------------------------------\u001b[0m",
            "\u001b[0;31mRuntimeError\u001b[0m                              Traceback (most recent call last)",
            "\u001b[0;32m<ipython-input-73-b2d87a71b487>\u001b[0m in \u001b[0;36m<cell line: 11>\u001b[0;34m()\u001b[0m\n\u001b[1;32m      9\u001b[0m                         [11,12]])\n\u001b[1;32m     10\u001b[0m \u001b[0;34m\u001b[0m\u001b[0m\n\u001b[0;32m---> 11\u001b[0;31m \u001b[0mtorch\u001b[0m\u001b[0;34m.\u001b[0m\u001b[0mmm\u001b[0m\u001b[0;34m(\u001b[0m\u001b[0mtensor_A\u001b[0m\u001b[0;34m,\u001b[0m\u001b[0mtensor_B\u001b[0m\u001b[0;34m)\u001b[0m\u001b[0;34m\u001b[0m\u001b[0;34m\u001b[0m\u001b[0m\n\u001b[0m",
            "\u001b[0;31mRuntimeError\u001b[0m: mat1 and mat2 shapes cannot be multiplied (3x2 and 3x2)"
          ]
        }
      ]
    },
    {
      "cell_type": "code",
      "source": [
        "tensor_A.shape"
      ],
      "metadata": {
        "colab": {
          "base_uri": "https://localhost:8080/"
        },
        "id": "FqHW-d8-zz7U",
        "outputId": "5fa87e2b-1335-408b-b9ed-2d8bfba0bafd"
      },
      "execution_count": null,
      "outputs": [
        {
          "output_type": "execute_result",
          "data": {
            "text/plain": [
              "torch.Size([3, 2])"
            ]
          },
          "metadata": {},
          "execution_count": 74
        }
      ]
    },
    {
      "cell_type": "markdown",
      "source": [
        "To fix our tensor shape issues , we can manuluplate the shape of one our tensors using transponse\n",
        "\n",
        "A **transpose** switches the axes or dimension of a given tensor"
      ],
      "metadata": {
        "id": "L0BPZhw40UCl"
      }
    },
    {
      "cell_type": "code",
      "source": [
        "tensor_B.T #it transposes the matrix tensor_B\n"
      ],
      "metadata": {
        "colab": {
          "base_uri": "https://localhost:8080/"
        },
        "id": "4OmPp1zlz_xF",
        "outputId": "b61fb33d-af42-49e5-faa8-d40dafdf9634"
      },
      "execution_count": null,
      "outputs": [
        {
          "output_type": "execute_result",
          "data": {
            "text/plain": [
              "tensor([[ 7,  9, 11],\n",
              "        [ 8, 10, 12]])"
            ]
          },
          "metadata": {},
          "execution_count": 77
        }
      ]
    },
    {
      "cell_type": "code",
      "source": [
        "tensor_A.shape,tensor_B.shape"
      ],
      "metadata": {
        "colab": {
          "base_uri": "https://localhost:8080/"
        },
        "id": "Zl3BesiO01Jg",
        "outputId": "fe50daed-a4e9-4a87-91ad-d65d91987950"
      },
      "execution_count": null,
      "outputs": [
        {
          "output_type": "execute_result",
          "data": {
            "text/plain": [
              "(torch.Size([3, 2]), torch.Size([3, 2]))"
            ]
          },
          "metadata": {},
          "execution_count": 81
        }
      ]
    },
    {
      "cell_type": "code",
      "source": [
        "tensor_A.T.shape,tensor_B.T.shape"
      ],
      "metadata": {
        "colab": {
          "base_uri": "https://localhost:8080/"
        },
        "id": "RjbTZLh71BZS",
        "outputId": "6837a35a-e1b7-4d31-8f6a-496a1521b35c"
      },
      "execution_count": null,
      "outputs": [
        {
          "output_type": "execute_result",
          "data": {
            "text/plain": [
              "(torch.Size([2, 3]), torch.Size([2, 3]))"
            ]
          },
          "metadata": {},
          "execution_count": 82
        }
      ]
    },
    {
      "cell_type": "code",
      "source": [
        "torch.mm(tensor_A,tensor_B.T)"
      ],
      "metadata": {
        "colab": {
          "base_uri": "https://localhost:8080/"
        },
        "id": "KBvHFCSX0hQ2",
        "outputId": "4fdecdcb-7e36-473c-9faf-adfdc9ba8b5b"
      },
      "execution_count": null,
      "outputs": [
        {
          "output_type": "execute_result",
          "data": {
            "text/plain": [
              "tensor([[ 23,  29,  35],\n",
              "        [ 53,  67,  81],\n",
              "        [ 83, 105, 127]])"
            ]
          },
          "metadata": {},
          "execution_count": 79
        }
      ]
    },
    {
      "cell_type": "code",
      "source": [
        "print(f\"the output shape : {torch.mm(tensor_A,tensor_B.T).shape}\")"
      ],
      "metadata": {
        "colab": {
          "base_uri": "https://localhost:8080/"
        },
        "id": "a-QozxRV0tQ_",
        "outputId": "ba8fa422-fd1f-4422-8762-c1df4c71380a"
      },
      "execution_count": null,
      "outputs": [
        {
          "output_type": "stream",
          "name": "stdout",
          "text": [
            "the output shape : torch.Size([3, 3])\n"
          ]
        }
      ]
    },
    {
      "cell_type": "code",
      "source": [],
      "metadata": {
        "id": "xsgel3GV2Tpx"
      },
      "execution_count": null,
      "outputs": []
    },
    {
      "cell_type": "markdown",
      "source": [
        "#Finding min, max, mean , sum etc ( tensor aggregation)"
      ],
      "metadata": {
        "id": "G213XxsY73M8"
      }
    },
    {
      "cell_type": "code",
      "source": [
        "x= torch.arange(0,100,10)"
      ],
      "metadata": {
        "id": "vouV71z078Xj"
      },
      "execution_count": null,
      "outputs": []
    },
    {
      "cell_type": "code",
      "source": [
        "torch.min(x) , x.min()"
      ],
      "metadata": {
        "colab": {
          "base_uri": "https://localhost:8080/"
        },
        "id": "j5dhtpr98CYI",
        "outputId": "03af5f67-7241-49a0-c794-050621e7d24d"
      },
      "execution_count": null,
      "outputs": [
        {
          "output_type": "execute_result",
          "data": {
            "text/plain": [
              "(tensor(0), tensor(0))"
            ]
          },
          "metadata": {},
          "execution_count": 86
        }
      ]
    },
    {
      "cell_type": "code",
      "source": [
        "torch.max(x) , x.max()\n"
      ],
      "metadata": {
        "colab": {
          "base_uri": "https://localhost:8080/"
        },
        "id": "rkmmZf_08H44",
        "outputId": "f99e6f59-68ef-456d-88c6-47d58db4b028"
      },
      "execution_count": null,
      "outputs": [
        {
          "output_type": "execute_result",
          "data": {
            "text/plain": [
              "(tensor(90), tensor(90))"
            ]
          },
          "metadata": {},
          "execution_count": 87
        }
      ]
    },
    {
      "cell_type": "code",
      "source": [
        "# torch(x) # gives error as datatype should be float or etc as tensor is not a right datatype\n",
        "torch.mean(x.type(torch.float32)) , x.type(torch.float32).mean()"
      ],
      "metadata": {
        "colab": {
          "base_uri": "https://localhost:8080/"
        },
        "id": "COWxKHKZ8KnJ",
        "outputId": "dc11a923-7357-43d1-8bfd-64bf6036bb7a"
      },
      "execution_count": null,
      "outputs": [
        {
          "output_type": "execute_result",
          "data": {
            "text/plain": [
              "(tensor(45.), tensor(45.))"
            ]
          },
          "metadata": {},
          "execution_count": 88
        }
      ]
    },
    {
      "cell_type": "code",
      "source": [
        "torch.sum(x) , x.sum()\n"
      ],
      "metadata": {
        "colab": {
          "base_uri": "https://localhost:8080/"
        },
        "id": "3t2j9nT38MRm",
        "outputId": "4bdf7752-328c-4f00-9a8a-9e3f2f7d6c06"
      },
      "execution_count": null,
      "outputs": [
        {
          "output_type": "execute_result",
          "data": {
            "text/plain": [
              "(tensor(450), tensor(450))"
            ]
          },
          "metadata": {},
          "execution_count": 89
        }
      ]
    },
    {
      "cell_type": "markdown",
      "source": [
        "#Finding positional min and max"
      ],
      "metadata": {
        "id": "k3nDpmqL9Nr5"
      }
    },
    {
      "cell_type": "code",
      "source": [
        "x.argmin()"
      ],
      "metadata": {
        "colab": {
          "base_uri": "https://localhost:8080/"
        },
        "id": "A9Nt4wsH9Prh",
        "outputId": "c5ba707b-97ae-4122-b488-4176929955d2"
      },
      "execution_count": null,
      "outputs": [
        {
          "output_type": "execute_result",
          "data": {
            "text/plain": [
              "tensor(0)"
            ]
          },
          "metadata": {},
          "execution_count": 90
        }
      ]
    },
    {
      "cell_type": "code",
      "source": [
        "x[0]"
      ],
      "metadata": {
        "colab": {
          "base_uri": "https://localhost:8080/"
        },
        "id": "Ah_n41Tc9WPe",
        "outputId": "e8017990-9b4e-4b9b-a983-e8a6cbcaf659"
      },
      "execution_count": null,
      "outputs": [
        {
          "output_type": "execute_result",
          "data": {
            "text/plain": [
              "tensor(0)"
            ]
          },
          "metadata": {},
          "execution_count": 91
        }
      ]
    },
    {
      "cell_type": "code",
      "source": [
        " x.argmax()"
      ],
      "metadata": {
        "colab": {
          "base_uri": "https://localhost:8080/"
        },
        "id": "9g2PtWTF9XZW",
        "outputId": "ba51f857-8720-4121-bd74-d78004469ce2"
      },
      "execution_count": null,
      "outputs": [
        {
          "output_type": "execute_result",
          "data": {
            "text/plain": [
              "tensor(9)"
            ]
          },
          "metadata": {},
          "execution_count": 92
        }
      ]
    },
    {
      "cell_type": "code",
      "source": [
        "x[9]"
      ],
      "metadata": {
        "colab": {
          "base_uri": "https://localhost:8080/"
        },
        "id": "KWqKJLjW-DqW",
        "outputId": "ec53842b-c35c-4baa-acd6-3978ac3a6fc5"
      },
      "execution_count": null,
      "outputs": [
        {
          "output_type": "execute_result",
          "data": {
            "text/plain": [
              "tensor(90)"
            ]
          },
          "metadata": {},
          "execution_count": 93
        }
      ]
    },
    {
      "cell_type": "code",
      "source": [],
      "metadata": {
        "id": "mYNWyid9-ExA"
      },
      "execution_count": null,
      "outputs": []
    },
    {
      "cell_type": "markdown",
      "source": [
        "\\"
      ],
      "metadata": {
        "id": "NJi7hhJC_N-6"
      }
    },
    {
      "cell_type": "markdown",
      "source": [],
      "metadata": {
        "id": "CuzcktuR_N7i"
      }
    },
    {
      "cell_type": "markdown",
      "source": [
        "## Reshaping , stacking , squeezing and unsqueezing tensors\n",
        "\n",
        "* Reshaping - reshapes an input tensor toa  defined shape\n",
        "* view - return a view of an input tensor of certain shape but keep the same memory as the original tensor\n",
        "*Stacking - combined multiple tensors on top of each other ( Vstack ) or Hstack for side by side and  etc\n",
        "*squeeze - removes all '1' dimensions from a tensor\n",
        "*unsqueeze- add a `1` dimension to a target tensor\n",
        "*permute - return a view of the input with dimesnsion permuted ( swapped) in a  certain way\n"
      ],
      "metadata": {
        "id": "JC7Oxt_h_JT8"
      }
    },
    {
      "cell_type": "code",
      "source": [
        "y = torch.arange(1.0,10.0)\n",
        "y,y.shape"
      ],
      "metadata": {
        "colab": {
          "base_uri": "https://localhost:8080/"
        },
        "id": "TkMIGKOQ_NbD",
        "outputId": "3cc3d246-2761-4291-93ee-2e32fbdf37b8"
      },
      "execution_count": null,
      "outputs": [
        {
          "output_type": "execute_result",
          "data": {
            "text/plain": [
              "(tensor([1., 2., 3., 4., 5., 6., 7., 8., 9.]), torch.Size([9]))"
            ]
          },
          "metadata": {},
          "execution_count": 95
        }
      ]
    },
    {
      "cell_type": "code",
      "source": [
        "# y_reshaped = y.reshape(1,6) #error bcz we are trying to squeeze 9 elements into 6 elements\n",
        "y_reshaped = y.reshape(1,9)\n",
        "y_reshaped,y_reshaped.shape"
      ],
      "metadata": {
        "colab": {
          "base_uri": "https://localhost:8080/"
        },
        "id": "hht5Bi_R_7q_",
        "outputId": "806ae442-f119-49c8-b16c-956ce5911dd1"
      },
      "execution_count": null,
      "outputs": [
        {
          "output_type": "execute_result",
          "data": {
            "text/plain": [
              "(tensor([[1., 2., 3., 4., 5., 6., 7., 8., 9.]]), torch.Size([1, 9]))"
            ]
          },
          "metadata": {},
          "execution_count": 98
        }
      ]
    },
    {
      "cell_type": "code",
      "source": [
        "# y_reshaped = y.reshape(2,9) error bcz we dont have 2*9 i.e 18 elements\n",
        "y_reshaped = y.reshape(9,1) # also 9*1=9 run bcz we have 9 elements and number of rows can are 9 with each having 1 element\n",
        "y_reshaped"
      ],
      "metadata": {
        "colab": {
          "base_uri": "https://localhost:8080/"
        },
        "id": "JXBjKO-8A362",
        "outputId": "824a67c5-9879-477a-e47b-271fbeb05d98"
      },
      "execution_count": null,
      "outputs": [
        {
          "output_type": "execute_result",
          "data": {
            "text/plain": [
              "tensor([[1.],\n",
              "        [2.],\n",
              "        [3.],\n",
              "        [4.],\n",
              "        [5.],\n",
              "        [6.],\n",
              "        [7.],\n",
              "        [8.],\n",
              "        [9.]])"
            ]
          },
          "metadata": {},
          "execution_count": 102
        }
      ]
    },
    {
      "cell_type": "code",
      "source": [
        "y_reshaped = y.reshape(3,3) # works as 3*3=9\n",
        "y_reshaped"
      ],
      "metadata": {
        "colab": {
          "base_uri": "https://localhost:8080/"
        },
        "id": "kKm76ZHEBRpC",
        "outputId": "a422c6db-4ff1-4bd3-c299-c05279de8c30"
      },
      "execution_count": null,
      "outputs": [
        {
          "output_type": "execute_result",
          "data": {
            "text/plain": [
              "tensor([[1., 2., 3.],\n",
              "        [4., 5., 6.],\n",
              "        [7., 8., 9.]])"
            ]
          },
          "metadata": {},
          "execution_count": 103
        }
      ]
    },
    {
      "cell_type": "code",
      "source": [
        "#change the view\n",
        "\n",
        "z= y.view(1,9)\n",
        "z,z.shape"
      ],
      "metadata": {
        "colab": {
          "base_uri": "https://localhost:8080/"
        },
        "id": "lppzjonZBq4A",
        "outputId": "d6a77745-0897-4b6b-ebdc-ee281d7f594d"
      },
      "execution_count": null,
      "outputs": [
        {
          "output_type": "execute_result",
          "data": {
            "text/plain": [
              "(tensor([[1., 2., 3., 4., 5., 6., 7., 8., 9.]]), torch.Size([1, 9]))"
            ]
          },
          "metadata": {},
          "execution_count": 104
        }
      ]
    },
    {
      "cell_type": "code",
      "source": [
        "#change in z changes c ( bcz a view of a tensor shares the same memory as original tensor)"
      ],
      "metadata": {
        "id": "-n077NYADSOS"
      },
      "execution_count": null,
      "outputs": []
    },
    {
      "cell_type": "code",
      "source": [
        "z[:,0]=5\n",
        "z,y"
      ],
      "metadata": {
        "colab": {
          "base_uri": "https://localhost:8080/"
        },
        "id": "Y2ema8sjDo4Q",
        "outputId": "44969706-70ed-47e0-b6c3-7610bbc7b167"
      },
      "execution_count": null,
      "outputs": [
        {
          "output_type": "execute_result",
          "data": {
            "text/plain": [
              "(tensor([[5., 2., 3., 4., 5., 6., 7., 8., 9.]]),\n",
              " tensor([5., 2., 3., 4., 5., 6., 7., 8., 9.]))"
            ]
          },
          "metadata": {},
          "execution_count": 109
        }
      ]
    },
    {
      "cell_type": "code",
      "source": [
        "#Stacking tensors on top of each other\n",
        "torch.stack([y,y,y,y])"
      ],
      "metadata": {
        "colab": {
          "base_uri": "https://localhost:8080/"
        },
        "id": "eIdLJPksDpnz",
        "outputId": "9f12e81e-5dd3-4b05-a139-43ce0ad8be66"
      },
      "execution_count": null,
      "outputs": [
        {
          "output_type": "execute_result",
          "data": {
            "text/plain": [
              "tensor([[5., 2., 3., 4., 5., 6., 7., 8., 9.],\n",
              "        [5., 2., 3., 4., 5., 6., 7., 8., 9.],\n",
              "        [5., 2., 3., 4., 5., 6., 7., 8., 9.],\n",
              "        [5., 2., 3., 4., 5., 6., 7., 8., 9.]])"
            ]
          },
          "metadata": {},
          "execution_count": 106
        }
      ]
    },
    {
      "cell_type": "code",
      "source": [
        "torch.stack([y,y,y,y],dim=0)"
      ],
      "metadata": {
        "colab": {
          "base_uri": "https://localhost:8080/"
        },
        "id": "B5YCqt3ADpgS",
        "outputId": "5ac57afa-1faa-49f2-bf10-3dfce0bbc344"
      },
      "execution_count": null,
      "outputs": [
        {
          "output_type": "execute_result",
          "data": {
            "text/plain": [
              "tensor([[5., 2., 3., 4., 5., 6., 7., 8., 9.],\n",
              "        [5., 2., 3., 4., 5., 6., 7., 8., 9.],\n",
              "        [5., 2., 3., 4., 5., 6., 7., 8., 9.],\n",
              "        [5., 2., 3., 4., 5., 6., 7., 8., 9.]])"
            ]
          },
          "metadata": {},
          "execution_count": 107
        }
      ]
    },
    {
      "cell_type": "code",
      "source": [
        "torch.stack([y,y,y,y],dim=1)"
      ],
      "metadata": {
        "colab": {
          "base_uri": "https://localhost:8080/"
        },
        "id": "occSuDZSFJkc",
        "outputId": "ff403ddf-568a-4ae2-c808-62e8184355df"
      },
      "execution_count": null,
      "outputs": [
        {
          "output_type": "execute_result",
          "data": {
            "text/plain": [
              "tensor([[5., 5., 5., 5.],\n",
              "        [2., 2., 2., 2.],\n",
              "        [3., 3., 3., 3.],\n",
              "        [4., 4., 4., 4.],\n",
              "        [5., 5., 5., 5.],\n",
              "        [6., 6., 6., 6.],\n",
              "        [7., 7., 7., 7.],\n",
              "        [8., 8., 8., 8.],\n",
              "        [9., 9., 9., 9.]])"
            ]
          },
          "metadata": {},
          "execution_count": 110
        }
      ]
    },
    {
      "cell_type": "code",
      "source": [
        "torch.stack([y,y,y,y],dim=2)"
      ],
      "metadata": {
        "colab": {
          "base_uri": "https://localhost:8080/",
          "height": 159
        },
        "id": "EudbLPpYDo0H",
        "outputId": "31df6f61-d7ce-4f4f-af14-af6ebdba433a"
      },
      "execution_count": null,
      "outputs": [
        {
          "output_type": "error",
          "ename": "IndexError",
          "evalue": "Dimension out of range (expected to be in range of [-2, 1], but got 2)",
          "traceback": [
            "\u001b[0;31m---------------------------------------------------------------------------\u001b[0m",
            "\u001b[0;31mIndexError\u001b[0m                                Traceback (most recent call last)",
            "\u001b[0;32m<ipython-input-108-d519bf2b3e3a>\u001b[0m in \u001b[0;36m<cell line: 1>\u001b[0;34m()\u001b[0m\n\u001b[0;32m----> 1\u001b[0;31m torch.stack([y,y,y,y],dim=2\n\u001b[0m\u001b[1;32m      2\u001b[0m             )\n",
            "\u001b[0;31mIndexError\u001b[0m: Dimension out of range (expected to be in range of [-2, 1], but got 2)"
          ]
        }
      ]
    },
    {
      "cell_type": "code",
      "source": [
        "y_reshaped"
      ],
      "metadata": {
        "colab": {
          "base_uri": "https://localhost:8080/"
        },
        "id": "ux4csFukGbpg",
        "outputId": "78868aa8-d346-4365-a286-304ee429325d"
      },
      "execution_count": null,
      "outputs": [
        {
          "output_type": "execute_result",
          "data": {
            "text/plain": [
              "tensor([[5., 2., 3.],\n",
              "        [4., 5., 6.],\n",
              "        [7., 8., 9.]])"
            ]
          },
          "metadata": {},
          "execution_count": 116
        }
      ]
    },
    {
      "cell_type": "code",
      "source": [
        "#Squeeze\n",
        "\n",
        "torch.squeeze(y_reshaped) , y_reshaped.squeeze()"
      ],
      "metadata": {
        "colab": {
          "base_uri": "https://localhost:8080/"
        },
        "id": "NOFMKFj3Dow2",
        "outputId": "d3e24240-426a-4d4f-b73c-81b2e9b0b638"
      },
      "execution_count": null,
      "outputs": [
        {
          "output_type": "execute_result",
          "data": {
            "text/plain": [
              "(tensor([[5., 2., 3.],\n",
              "         [4., 5., 6.],\n",
              "         [7., 8., 9.]]),\n",
              " tensor([[5., 2., 3.],\n",
              "         [4., 5., 6.],\n",
              "         [7., 8., 9.]]))"
            ]
          },
          "metadata": {},
          "execution_count": 114
        }
      ]
    },
    {
      "cell_type": "code",
      "source": [
        " torch.squeeze(y_reshaped).shape"
      ],
      "metadata": {
        "colab": {
          "base_uri": "https://localhost:8080/"
        },
        "id": "7hiKScACDoth",
        "outputId": "2d24e8cf-822e-42e2-e000-249c7fc385ff"
      },
      "execution_count": null,
      "outputs": [
        {
          "output_type": "execute_result",
          "data": {
            "text/plain": [
              "torch.Size([3, 3])"
            ]
          },
          "metadata": {},
          "execution_count": 115
        }
      ]
    },
    {
      "cell_type": "code",
      "source": [
        "y_reshaped= y_reshaped.reshape(1,9)\n",
        "y_reshaped.shape"
      ],
      "metadata": {
        "colab": {
          "base_uri": "https://localhost:8080/"
        },
        "id": "nOVqfMyvGNwJ",
        "outputId": "74d6e19a-3da8-4329-b186-36f98ab2b892"
      },
      "execution_count": null,
      "outputs": [
        {
          "output_type": "execute_result",
          "data": {
            "text/plain": [
              "torch.Size([1, 9])"
            ]
          },
          "metadata": {},
          "execution_count": 127
        }
      ]
    },
    {
      "cell_type": "code",
      "source": [
        "y_reshaped.squeeze() # removed 1D from [1,9] and if its [1,1,3] it will remove all 1D's i.e [3] is final"
      ],
      "metadata": {
        "colab": {
          "base_uri": "https://localhost:8080/"
        },
        "id": "D3S772FsHHjx",
        "outputId": "dc7c3a8b-25ff-47fd-8c13-e58d1b5fdbf4"
      },
      "execution_count": null,
      "outputs": [
        {
          "output_type": "execute_result",
          "data": {
            "text/plain": [
              "tensor([5., 2., 3., 4., 5., 6., 7., 8., 9.])"
            ]
          },
          "metadata": {},
          "execution_count": 126
        }
      ]
    },
    {
      "cell_type": "code",
      "source": [
        "print(f\"Previous tensor : {y_reshaped}\")\n",
        "print(f\"Previous shape : {y_reshaped.shape}\")\n",
        "\n",
        "#remove extra dimension from y_reshaped"
      ],
      "metadata": {
        "colab": {
          "base_uri": "https://localhost:8080/"
        },
        "id": "PnSb6uMqHR50",
        "outputId": "0891b670-543a-4bc4-e82b-cc72e467db2c"
      },
      "execution_count": null,
      "outputs": [
        {
          "output_type": "stream",
          "name": "stdout",
          "text": [
            "Previous tensor : tensor([[5., 2., 3., 4., 5., 6., 7., 8., 9.]])\n",
            "Previous shape : torch.Size([1, 9])\n"
          ]
        }
      ]
    },
    {
      "cell_type": "code",
      "source": [
        "#unsqueeze\n",
        "y_unsqueezed = y_reshaped.unsqueeze(dim=0)\n",
        "y_unsqueezed"
      ],
      "metadata": {
        "colab": {
          "base_uri": "https://localhost:8080/"
        },
        "id": "CFjSNI97HugF",
        "outputId": "d0e0dd2e-5af5-4bb6-c854-3a4be420e2db"
      },
      "execution_count": null,
      "outputs": [
        {
          "output_type": "execute_result",
          "data": {
            "text/plain": [
              "tensor([[[5., 2., 3., 4., 5., 6., 7., 8., 9.]]])"
            ]
          },
          "metadata": {},
          "execution_count": 130
        }
      ]
    },
    {
      "cell_type": "code",
      "source": [
        "print(f\"New tensor : {y_reshaped.shape}\")\n",
        "print(f\"New tensor : {y_unsqueezed}\")\n",
        "print(f\"New shape : {y_unsqueezed.shape}\")"
      ],
      "metadata": {
        "colab": {
          "base_uri": "https://localhost:8080/"
        },
        "id": "LXZNC-FDID_Y",
        "outputId": "59366e87-9a9c-484f-cebd-65d2401d2ddb"
      },
      "execution_count": null,
      "outputs": [
        {
          "output_type": "stream",
          "name": "stdout",
          "text": [
            "New tensor : torch.Size([1, 9])\n",
            "New tensor : tensor([[[5., 2., 3., 4., 5., 6., 7., 8., 9.]]])\n",
            "New shape : torch.Size([1, 1, 9])\n"
          ]
        }
      ]
    },
    {
      "cell_type": "code",
      "source": [
        "  y_unsqueezed_dim_1 = y.squeeze().unsqueeze(dim=1)\n",
        "  y_unsqueezed_dim_1"
      ],
      "metadata": {
        "colab": {
          "base_uri": "https://localhost:8080/"
        },
        "id": "vNG595eVIK6w",
        "outputId": "ead80aef-fd10-41bf-e416-d8d150cad367"
      },
      "execution_count": null,
      "outputs": [
        {
          "output_type": "execute_result",
          "data": {
            "text/plain": [
              "tensor([[5.],\n",
              "        [2.],\n",
              "        [3.],\n",
              "        [4.],\n",
              "        [5.],\n",
              "        [6.],\n",
              "        [7.],\n",
              "        [8.],\n",
              "        [9.]])"
            ]
          },
          "metadata": {},
          "execution_count": 139
        }
      ]
    },
    {
      "cell_type": "code",
      "source": [
        "print(f\"New tensor : {y_reshaped.shape}\")\n",
        "print(f\"New tensor : {y_unsqueezed_dim_1}\")\n",
        "print(f\"New shape : {y_unsqueezed_dim_1.shape}\")"
      ],
      "metadata": {
        "colab": {
          "base_uri": "https://localhost:8080/"
        },
        "id": "XuqZY5NjIuVP",
        "outputId": "e688eee2-e2c3-4274-eda3-d5845526ef7c"
      },
      "execution_count": null,
      "outputs": [
        {
          "output_type": "stream",
          "name": "stdout",
          "text": [
            "New tensor : torch.Size([1, 9])\n",
            "New tensor : tensor([[5.],\n",
            "        [2.],\n",
            "        [3.],\n",
            "        [4.],\n",
            "        [5.],\n",
            "        [6.],\n",
            "        [7.],\n",
            "        [8.],\n",
            "        [9.]])\n",
            "New shape : torch.Size([9, 1])\n"
          ]
        }
      ]
    },
    {
      "cell_type": "code",
      "source": [
        "a = torch.randn(2, 3, 5)\n",
        "a.shape"
      ],
      "metadata": {
        "colab": {
          "base_uri": "https://localhost:8080/"
        },
        "id": "aKx-vcQOIv4c",
        "outputId": "ce4968d5-34d2-4a17-8adb-05c72d4a3610"
      },
      "execution_count": null,
      "outputs": [
        {
          "output_type": "execute_result",
          "data": {
            "text/plain": [
              "torch.Size([2, 3, 5])"
            ]
          },
          "metadata": {},
          "execution_count": 141
        }
      ]
    },
    {
      "cell_type": "code",
      "source": [
        "a.permute(2, 0, 1).shape"
      ],
      "metadata": {
        "colab": {
          "base_uri": "https://localhost:8080/"
        },
        "id": "kK09chBJK0FP",
        "outputId": "af242ba1-6991-41f3-9b2e-743e48f5e729"
      },
      "execution_count": null,
      "outputs": [
        {
          "output_type": "execute_result",
          "data": {
            "text/plain": [
              "torch.Size([5, 2, 3])"
            ]
          },
          "metadata": {},
          "execution_count": 142
        }
      ]
    },
    {
      "cell_type": "markdown",
      "source": [
        "#Selecting data from tenors ( indexing )"
      ],
      "metadata": {
        "id": "Wq_s193iZ_wz"
      }
    },
    {
      "cell_type": "code",
      "source": [
        "b = torch.rand(1,3,3)\n",
        "b"
      ],
      "metadata": {
        "colab": {
          "base_uri": "https://localhost:8080/"
        },
        "id": "yooYueLDK2xj",
        "outputId": "1651b801-55d8-4eb8-ebdd-f2c89d46ef19"
      },
      "execution_count": null,
      "outputs": [
        {
          "output_type": "execute_result",
          "data": {
            "text/plain": [
              "tensor([[[0.1219, 0.3639, 0.1201],\n",
              "         [0.0824, 0.4818, 0.2073],\n",
              "         [0.3832, 0.6041, 0.1817]]])"
            ]
          },
          "metadata": {},
          "execution_count": 152
        }
      ]
    },
    {
      "cell_type": "code",
      "source": [
        "b[0][0]"
      ],
      "metadata": {
        "colab": {
          "base_uri": "https://localhost:8080/"
        },
        "id": "luKkxYpzaNZy",
        "outputId": "0ba9f300-f2cc-45e7-a423-f128dbfa5354"
      },
      "execution_count": null,
      "outputs": [
        {
          "output_type": "execute_result",
          "data": {
            "text/plain": [
              "tensor([0.1219, 0.3639, 0.1201])"
            ]
          },
          "metadata": {},
          "execution_count": 153
        }
      ]
    },
    {
      "cell_type": "code",
      "source": [
        "b[:,0] # get all values of 0th dimesion\n",
        "# so the : will get all the elements of outer [ ] i.e [[0.1219, 0.3639, 0.1201],\n",
        "         #[0.0824, 0.4818, 0.2073],\n",
        "         #[0.3832, 0.6041, 0.1817]]\n",
        "\n",
        "# now 0 will give us the the [ ] with 0th index....i.e  [0.1219, 0.3639, 0.1201]\n",
        "# if we said [ : , : , 0] means now from   [0.1219, 0.3639, 0.1201]  we want the  item with 0th index i.e 0.1219"
      ],
      "metadata": {
        "colab": {
          "base_uri": "https://localhost:8080/"
        },
        "id": "P3OGTefgaORA",
        "outputId": "3edb0f26-b3ad-48bd-e848-6550472d3741"
      },
      "execution_count": null,
      "outputs": [
        {
          "output_type": "execute_result",
          "data": {
            "text/plain": [
              "tensor([[0.1219, 0.3639, 0.1201]])"
            ]
          },
          "metadata": {},
          "execution_count": 154
        }
      ]
    },
    {
      "cell_type": "code",
      "source": [
        "b[: ,: , 1] #get all values of 0th and 1st dimeension but only index 1 of 2nd dimesions"
      ],
      "metadata": {
        "colab": {
          "base_uri": "https://localhost:8080/"
        },
        "id": "Wvt5CmlHakqX",
        "outputId": "6d7e42ab-1aa9-4974-a71f-aad4eaf26fbf"
      },
      "execution_count": null,
      "outputs": [
        {
          "output_type": "execute_result",
          "data": {
            "text/plain": [
              "tensor([[0.3639, 0.4818, 0.6041]])"
            ]
          },
          "metadata": {},
          "execution_count": 155
        }
      ]
    },
    {
      "cell_type": "code",
      "source": [
        "b[:, 1 , 1] # is same as b[0][1][1]....but : means all not 0"
      ],
      "metadata": {
        "colab": {
          "base_uri": "https://localhost:8080/"
        },
        "id": "fJuir-QqbD7A",
        "outputId": "35a4c549-9486-42c7-f2d4-668519bb1615"
      },
      "execution_count": null,
      "outputs": [
        {
          "output_type": "execute_result",
          "data": {
            "text/plain": [
              "tensor([0.4818])"
            ]
          },
          "metadata": {},
          "execution_count": 159
        }
      ]
    },
    {
      "cell_type": "code",
      "source": [
        "b[0 , 0 , :]"
      ],
      "metadata": {
        "colab": {
          "base_uri": "https://localhost:8080/"
        },
        "id": "aq9q0ISRdQ_1",
        "outputId": "30c93a43-bdef-4408-bf35-37a9df083480"
      },
      "execution_count": null,
      "outputs": [
        {
          "output_type": "execute_result",
          "data": {
            "text/plain": [
              "tensor([0.1219, 0.3639, 0.1201])"
            ]
          },
          "metadata": {},
          "execution_count": 160
        }
      ]
    },
    {
      "cell_type": "markdown",
      "source": [
        "#PyTorch Tensors and NumPy\n",
        "\n",
        "NumPy is a  popular scientific python numerical computing library\n",
        "\n",
        "And beacuse of this , PyTorch has functionality to interact with it\n",
        "\n",
        "* Data in NumPy , want in PyTorch tensor -> `torch.from_numpy(ndarray)`\n",
        "*PyTorch tensor -> NumPy -> ` torch.Tensor.numpy()`\n"
      ],
      "metadata": {
        "id": "juTopsrtwvwy"
      }
    },
    {
      "cell_type": "code",
      "source": [
        "np_array = np.arange(1.0,8.0)\n",
        "tensor = torch.from_numpy(np_array)\n",
        "tensor,tensor.dtype, np_array , np_array.dtype\n",
        "\n",
        "# when we create a tensor from numpy array we get a new tensor with new memory ...the tensor and that numpy array doesnt share the same memory\n"
      ],
      "metadata": {
        "id": "gTENhEAMd3SC",
        "colab": {
          "base_uri": "https://localhost:8080/"
        },
        "outputId": "31d72125-4c11-4419-8010-a79e9ef84338"
      },
      "execution_count": 9,
      "outputs": [
        {
          "output_type": "execute_result",
          "data": {
            "text/plain": [
              "(tensor([1., 2., 3., 4., 5., 6., 7.], dtype=torch.float64),\n",
              " torch.float64,\n",
              " array([1., 2., 3., 4., 5., 6., 7.]),\n",
              " dtype('float64'))"
            ]
          },
          "metadata": {},
          "execution_count": 9
        }
      ]
    },
    {
      "cell_type": "code",
      "source": [
        "torch.arange(1.0,8.0).dtype\n",
        "\n",
        "# so we can see the dtype of arange from np and torch is different.....\n",
        "# np create float64 as default dtype while torch creates a float32 as default .....\n",
        "# so when we convert np array into tensor we need to change the type of the array first before converting them or error may rise\n"
      ],
      "metadata": {
        "id": "zcQ-b-42xUk8",
        "colab": {
          "base_uri": "https://localhost:8080/"
        },
        "outputId": "565eac83-966a-4057-d501-c304cb0b7d57"
      },
      "execution_count": 10,
      "outputs": [
        {
          "output_type": "execute_result",
          "data": {
            "text/plain": [
              "torch.float32"
            ]
          },
          "metadata": {},
          "execution_count": 10
        }
      ]
    },
    {
      "cell_type": "code",
      "source": [
        "#so when we change the array , the tensor doesnt changes\n",
        "np_array+1 , tensor"
      ],
      "metadata": {
        "colab": {
          "base_uri": "https://localhost:8080/"
        },
        "id": "czV0HK6_zt2l",
        "outputId": "53ed4fb7-23a2-455d-ee32-5060469f2f81"
      },
      "execution_count": 11,
      "outputs": [
        {
          "output_type": "execute_result",
          "data": {
            "text/plain": [
              "(array([2., 3., 4., 5., 6., 7., 8.]),\n",
              " tensor([1., 2., 3., 4., 5., 6., 7.], dtype=torch.float64))"
            ]
          },
          "metadata": {},
          "execution_count": 11
        }
      ]
    },
    {
      "cell_type": "code",
      "source": [
        "# Tensor to numpy array....\n",
        "\n",
        "tensor = torch.ones(7)\n",
        "numpy_tensor = tensor.numpy() # changes tensor into numpy array.....the numpy created from tensor will have float32 dtype\n",
        "tensor , tensor.dtype , numpy_tensor"
      ],
      "metadata": {
        "colab": {
          "base_uri": "https://localhost:8080/"
        },
        "id": "k1DMnrmO2A18",
        "outputId": "63c13b27-a44e-4ae9-c7b9-c86ea27aa03c"
      },
      "execution_count": 14,
      "outputs": [
        {
          "output_type": "execute_result",
          "data": {
            "text/plain": [
              "(tensor([1., 1., 1., 1., 1., 1., 1.]),\n",
              " torch.float32,\n",
              " array([1., 1., 1., 1., 1., 1., 1.], dtype=float32))"
            ]
          },
          "metadata": {},
          "execution_count": 14
        }
      ]
    },
    {
      "cell_type": "code",
      "source": [
        "tensor= tensor+1\n",
        "tensor , numpy_tensor\n",
        "# they also dont share memories\n"
      ],
      "metadata": {
        "colab": {
          "base_uri": "https://localhost:8080/"
        },
        "id": "3U3SkFmO2Jq6",
        "outputId": "73877c4a-c2d9-415d-895a-ac2ca8adf123"
      },
      "execution_count": 15,
      "outputs": [
        {
          "output_type": "execute_result",
          "data": {
            "text/plain": [
              "(tensor([2., 2., 2., 2., 2., 2., 2.]),\n",
              " array([1., 1., 1., 1., 1., 1., 1.], dtype=float32))"
            ]
          },
          "metadata": {},
          "execution_count": 15
        }
      ]
    },
    {
      "cell_type": "markdown",
      "source": [
        "##Reproductibility ( trying to take random out of random )\n",
        "\n",
        "In short how a neural network learns :\n",
        "\n",
        "`start with random numbers - > tensor operations -> update numbers to try to make them better representation of the data -> again -> again -> again.....`\n",
        "\n",
        "so we want to reduce thid RANDOMNESS OF IT.....to reduce it here comes the concept of RANDOM SEED in pytorch\n",
        "essentially what the random seed does is \"flavor: the randomness\n",
        ""
      ],
      "metadata": {
        "id": "4R0LnwLv5aHz"
      }
    },
    {
      "cell_type": "code",
      "source": [
        "torch.rand(3,3) # every single time we run it we get RANDOM NUMBERS everytime.....\n",
        "# so we want to reduce thid RANDOMNESS OF IT....."
      ],
      "metadata": {
        "colab": {
          "base_uri": "https://localhost:8080/"
        },
        "id": "qIDm75Rl2fYO",
        "outputId": "90c76d7b-03f8-4a6d-9000-76b965e6c990"
      },
      "execution_count": 16,
      "outputs": [
        {
          "output_type": "execute_result",
          "data": {
            "text/plain": [
              "tensor([[0.8780, 0.3866, 0.7083],\n",
              "        [0.1293, 0.5334, 0.8391],\n",
              "        [0.9316, 0.0911, 0.4066]])"
            ]
          },
          "metadata": {},
          "execution_count": 16
        }
      ]
    },
    {
      "cell_type": "code",
      "source": [
        "random_tensor_A = torch.rand(3,4)\n",
        "random_tensor_B = torch.rand(3,4)\n",
        "\n",
        "print(random_tensor_A)\n",
        "print(random_tensor_B)\n",
        "print(random_tensor_A == random_tensor_B)\n",
        "\n",
        "# so lets say we share this thing to someone and they get the different values and somehow they get true in all indexes so it would be wrong\n"
      ],
      "metadata": {
        "colab": {
          "base_uri": "https://localhost:8080/"
        },
        "id": "TNLy9nTH5yVp",
        "outputId": "5a190dae-9f66-41f4-8557-f321e83c0e41"
      },
      "execution_count": 17,
      "outputs": [
        {
          "output_type": "stream",
          "name": "stdout",
          "text": [
            "tensor([[0.7998, 0.7014, 0.8299, 0.2282],\n",
            "        [0.0679, 0.2587, 0.0061, 0.7771],\n",
            "        [0.0735, 0.3153, 0.6663, 0.9612]])\n",
            "tensor([[0.5100, 0.3822, 0.2109, 0.3963],\n",
            "        [0.3879, 0.5333, 0.0353, 0.1212],\n",
            "        [0.0364, 0.1380, 0.1000, 0.5292]])\n",
            "tensor([[False, False, False, False],\n",
            "        [False, False, False, False],\n",
            "        [False, False, False, False]])\n"
          ]
        }
      ]
    },
    {
      "cell_type": "code",
      "source": [
        "#lets make some random but reproducible ( which can be made again when called ) tensors\n",
        "\n",
        "#set random seed\n",
        "\n",
        "RANDOM_SEED = 42 # any random number.....42 bcz ITS THE BEST OUT NUMBER WHICH ANSWERS UNIVERSAL CALLS\n",
        "torch.manual_seed(RANDOM_SEED) # when we use random seed it will call for 1  BLOCK of code everytime.....and then resets for other blocks so we have to call it everytime\n",
        "random_tensor_C = torch.rand(3,4)\n",
        "\n",
        "torch.manual_seed(RANDOM_SEED) # we recalled it bcz it was used for random_tensor_C and we need it again for D\n",
        "random_tensor_D = torch.rand(3,4)\n",
        "\n",
        "print(random_tensor_C)\n",
        "print(random_tensor_D)\n",
        "print(random_tensor_C == random_tensor_D)\n",
        "\n"
      ],
      "metadata": {
        "colab": {
          "base_uri": "https://localhost:8080/"
        },
        "id": "erOdZbR-60bQ",
        "outputId": "62b45265-3ffc-42af-cd45-7709d8444d36"
      },
      "execution_count": 23,
      "outputs": [
        {
          "output_type": "stream",
          "name": "stdout",
          "text": [
            "tensor([[0.8823, 0.9150, 0.3829, 0.9593],\n",
            "        [0.3904, 0.6009, 0.2566, 0.7936],\n",
            "        [0.9408, 0.1332, 0.9346, 0.5936]])\n",
            "tensor([[0.8823, 0.9150, 0.3829, 0.9593],\n",
            "        [0.3904, 0.6009, 0.2566, 0.7936],\n",
            "        [0.9408, 0.1332, 0.9346, 0.5936]])\n",
            "tensor([[True, True, True, True],\n",
            "        [True, True, True, True],\n",
            "        [True, True, True, True]])\n"
          ]
        }
      ]
    },
    {
      "cell_type": "code",
      "source": [
        "torch.manual_seed(RANDOM_SEED)\n",
        "random_tensor_E = torch.rand(3,4)\n",
        "print(random_tensor_E)"
      ],
      "metadata": {
        "colab": {
          "base_uri": "https://localhost:8080/"
        },
        "id": "DGPIitfF7WuR",
        "outputId": "57a1ff80-79e7-458e-d986-b76b1c7649de"
      },
      "execution_count": 24,
      "outputs": [
        {
          "output_type": "stream",
          "name": "stdout",
          "text": [
            "tensor([[0.8823, 0.9150, 0.3829, 0.9593],\n",
            "        [0.3904, 0.6009, 0.2566, 0.7936],\n",
            "        [0.9408, 0.1332, 0.9346, 0.5936]])\n"
          ]
        }
      ]
    },
    {
      "cell_type": "markdown",
      "source": [
        "## running tensors and pyotch objects on the GPU;s and making them faster\n",
        "\n",
        "GPU = faster computation on numbers , thanks to CUDA + NVIDIA h/w + PyTorch BTS to make everything make good\n"
      ],
      "metadata": {
        "id": "5qaAsEB-_O7m"
      }
    },
    {
      "cell_type": "markdown",
      "source": [
        "# Getting a GPU\n",
        "1.Easiest - use google collab for a free GPU ( options to upgrade as well )\n",
        "\n",
        "2.use yoour own GPU - take a litle bit of setup and requires the investment of purchasing a a GPU , there is lots of options\n",
        "\n",
        "3.use cloud computing\n"
      ],
      "metadata": {
        "id": "iAbmi4B9_3lA"
      }
    },
    {
      "cell_type": "markdown",
      "source": [
        "2.Check for Gpu acess with Pytroch"
      ],
      "metadata": {
        "id": "YHfo2v5GBkaq"
      }
    },
    {
      "cell_type": "code",
      "source": [
        "torch.cuda.is_available()"
      ],
      "metadata": {
        "colab": {
          "base_uri": "https://localhost:8080/"
        },
        "id": "IIlWt9hW_9kF",
        "outputId": "07b223f9-4704-4053-831e-8f5dc48fcc22"
      },
      "execution_count": 26,
      "outputs": [
        {
          "output_type": "execute_result",
          "data": {
            "text/plain": [
              "False"
            ]
          },
          "metadata": {},
          "execution_count": 26
        }
      ]
    },
    {
      "cell_type": "code",
      "source": [
        "device = \"cuda\" if torch.cuda.is_available() else \"cpu\"\n",
        "device"
      ],
      "metadata": {
        "colab": {
          "base_uri": "https://localhost:8080/",
          "height": 35
        },
        "id": "RxvbSdgbBdKF",
        "outputId": "f520d0f8-1a8f-444d-cad7-7f0e32e68ef6"
      },
      "execution_count": 27,
      "outputs": [
        {
          "output_type": "execute_result",
          "data": {
            "text/plain": [
              "'cpu'"
            ],
            "application/vnd.google.colaboratory.intrinsic+json": {
              "type": "string"
            }
          },
          "metadata": {},
          "execution_count": 27
        }
      ]
    },
    {
      "cell_type": "code",
      "source": [
        "#count number of devices\n",
        "torch.cuda.device_count()"
      ],
      "metadata": {
        "colab": {
          "base_uri": "https://localhost:8080/"
        },
        "id": "cFCcFbV1BuOs",
        "outputId": "880cc42f-e8d0-4ec4-f972-2f890e46f595"
      },
      "execution_count": 28,
      "outputs": [
        {
          "output_type": "execute_result",
          "data": {
            "text/plain": [
              "0"
            ]
          },
          "metadata": {},
          "execution_count": 28
        }
      ]
    },
    {
      "cell_type": "markdown",
      "source": [
        "## Putting tensor and models on the GPU\n",
        "\n",
        "the reason we want out tensor/models on the GPU is using a GPU result in faster in computations"
      ],
      "metadata": {
        "id": "W4J3ah-zCPFU"
      }
    },
    {
      "cell_type": "code",
      "source": [
        "tensor = torch.tensor([1,2,3])\n",
        "\n",
        "print(tensor,tensor.device)"
      ],
      "metadata": {
        "colab": {
          "base_uri": "https://localhost:8080/"
        },
        "id": "hC3P0evGBvyU",
        "outputId": "e243c471-2bec-4b8c-de63-da89688d4c6b"
      },
      "execution_count": 29,
      "outputs": [
        {
          "output_type": "stream",
          "name": "stdout",
          "text": [
            "tensor([1, 2, 3]) cpu\n"
          ]
        }
      ]
    },
    {
      "cell_type": "code",
      "source": [
        "\n",
        "# move tensor to GPU if available\n",
        "\n",
        "tensor_on_gpu = tensor.to(device)\n",
        "tensor_on_gpu , tensor_on_gpu.device"
      ],
      "metadata": {
        "colab": {
          "base_uri": "https://localhost:8080/"
        },
        "id": "SpaFRazfHQBy",
        "outputId": "9dbb7c3c-adcf-42c3-d0bc-1e272fdc90b8"
      },
      "execution_count": 31,
      "outputs": [
        {
          "output_type": "execute_result",
          "data": {
            "text/plain": [
              "(tensor([1, 2, 3]), device(type='cpu'))"
            ]
          },
          "metadata": {},
          "execution_count": 31
        }
      ]
    },
    {
      "cell_type": "markdown",
      "source": [
        "#moving tensors back to cpu"
      ],
      "metadata": {
        "id": "uhDYcTzNH0mN"
      }
    },
    {
      "cell_type": "code",
      "source": [
        "#if tensor is on gpu cant transform it into numpy\n",
        "\n",
        "tensor_on_gpu.numpy() # it worked bcz tensor_on_gpu was on CPU from start\n",
        "\n"
      ],
      "metadata": {
        "colab": {
          "base_uri": "https://localhost:8080/"
        },
        "id": "9zHhJbueHj1u",
        "outputId": "978e2a47-efc5-4288-c9a1-af9a94f4dda5"
      },
      "execution_count": 33,
      "outputs": [
        {
          "output_type": "execute_result",
          "data": {
            "text/plain": [
              "array([1, 2, 3])"
            ]
          },
          "metadata": {},
          "execution_count": 33
        }
      ]
    },
    {
      "cell_type": "code",
      "source": [
        "#convert it from GPU to CPU do\n",
        "\n",
        "tensor_back_on_cpu = tensor_on_gpu.cpu().numpy()\n",
        "tensor_back_on_cpu"
      ],
      "metadata": {
        "colab": {
          "base_uri": "https://localhost:8080/"
        },
        "id": "bhK2S56gH--0",
        "outputId": "868d7301-624e-4f21-aa1f-10d121d6d934"
      },
      "execution_count": 34,
      "outputs": [
        {
          "output_type": "execute_result",
          "data": {
            "text/plain": [
              "array([1, 2, 3])"
            ]
          },
          "metadata": {},
          "execution_count": 34
        }
      ]
    },
    {
      "cell_type": "code",
      "source": [],
      "metadata": {
        "id": "9QMVkhLTIPpn"
      },
      "execution_count": null,
      "outputs": []
    }
  ]
}